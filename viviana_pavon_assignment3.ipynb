{
 "cells": [
  {
   "cell_type": "markdown",
   "metadata": {},
   "source": [
    "* __INSTRUCTIONS:__\n",
    "\n",
    "\n",
    "    * Add your code as indicated in each cell.\n",
    "\n",
    "\n",
    "    * Besides adding your code, do not alter this file.\n",
    "\n",
    "\n",
    "    * Do not delete or change test cases. Once you are done with a question, you can run the test cases to see if you programmed the question correctly.\n",
    "\n",
    "\n",
    "    * If you get a question wrong, do not give up. Keep trying until you pass the test cases.\n",
    "\n",
    "\n",
    "    * Rename the file as firstname_lastname_assignmentid.ipynb (e.g., marina_johnson_assignment1.ipynb)\n",
    "\n",
    "\n",
    "    * Only submit .ipynb files (no .py files)"
   ]
  },
  {
   "cell_type": "code",
   "execution_count": 1,
   "metadata": {},
   "outputs": [],
   "source": [
    "# Do not delete this cell\n",
    "import numpy as np\n",
    "score = dict()\n",
    "np.random.seed(333)"
   ]
  },
  {
   "cell_type": "markdown",
   "metadata": {},
   "source": [
    "###################################################################################################################"
   ]
  },
  {
   "cell_type": "markdown",
   "metadata": {},
   "source": [
    "# Question 1\n",
    "\n",
    "1. Read the employee_attrition dataset and save it as df. Recall that the target variable in this dataset is named __'Attrition.'__\n",
    "\n",
    "\n",
    "2. Check if the dataset is imbalanced by counting the number of Noes and Yeses in the target variable __Attrition.__\n",
    "\n",
    "    * __Hints:__\n",
    "        * Imbalanced data refers to a situation where the number of observations is not the same for all the classes in a dataset. For example, the number of churned employees is 4000, while the number of unchurned employees is 40000. This means this dataset is imbalanced. \n",
    "        \n",
    "        * You need to access the target variable __Attrition__ and count how many Yes and No there is in this variable. If the number of Yes's is equal to the number of No's, then the dataset is balanced. Otherwise, it is not balanced. \n",
    "        \n",
    "        * Check __Module 5g: Encoding Categorical Variables__ to earn more about data imbalance problems. Particularly, check 2.5: Balancing datasets in Module 5. "
   ]
  },
  {
   "cell_type": "code",
   "execution_count": 2,
   "metadata": {},
   "outputs": [],
   "source": [
    "import pandas as pd\n",
    "\n",
    "df = pd.read_csv ('employee_attrition.csv') # read data set"
   ]
  },
  {
   "cell_type": "code",
   "execution_count": 3,
   "metadata": {},
   "outputs": [],
   "source": [
    "df.loc[df['Attrition'] == \"Yes\", 'Attrition'] = 1 # assigns 1 to attrition\n",
    "df.loc[df['Attrition'] == \"No\", 'Attrition'] = 0 # assigns 0 to not-attrition"
   ]
  },
  {
   "cell_type": "code",
   "execution_count": 4,
   "metadata": {},
   "outputs": [],
   "source": [
    "number_of_yes = len(df.loc[df['Attrition'] == 1,['Attrition']]) # your code to find the number \n",
    "                                # of yeses in the Attrition variable goes in here\n",
    "    \n",
    "number_of_no = len(df.loc[df['Attrition'] == 0,['Attrition']])# your code to find the number \n",
    "                                # of noes in the Attrition variable goes in here"
   ]
  },
  {
   "cell_type": "markdown",
   "metadata": {},
   "source": [
    "## Do not alter the below cell. It is a test case for Question 1"
   ]
  },
  {
   "cell_type": "code",
   "execution_count": 5,
   "metadata": {},
   "outputs": [
    {
     "data": {
      "text/plain": [
       "{'question 1': 'pass'}"
      ]
     },
     "execution_count": 5,
     "metadata": {},
     "output_type": "execute_result"
    }
   ],
   "source": [
    "try:\n",
    "    if (number_of_yes == 237 and number_of_no == 1233):\n",
    "        score['question 1'] = 'pass'\n",
    "    else: \n",
    "        score['question 1'] = 'fail'\n",
    "except:\n",
    "    score['question 1'] = 'fail'\n",
    "score"
   ]
  },
  {
   "cell_type": "markdown",
   "metadata": {},
   "source": [
    "###################################################################################################################"
   ]
  },
  {
   "cell_type": "markdown",
   "metadata": {},
   "source": [
    "# Question 2\n",
    "1. Identify the names of the __numerical input variables__ and save it as a __LIST__\n",
    "\n",
    "\n",
    "2. Identify the names of the __categorical input variables+__ and save it as a __LIST__\n",
    "\n",
    "    * __Hints__:\n",
    "        * Remember __Attrition__ is the __target (output)__ variable, so exclude __Attrition__ from both LISTS containing the numerical and categorical __input__ variables.\n",
    "        * Check __Modules 5b: Dropping Variables__ and __Module 3e: Helpful Functions (check after minute 4)__"
   ]
  },
  {
   "cell_type": "code",
   "execution_count": 6,
   "metadata": {},
   "outputs": [],
   "source": [
    "numerical_variables = list(set(df.columns) - set(df.dtypes[df.dtypes == object].index))\n",
    "categorical_variables = list(set(df.dtypes[df.dtypes == object].index) - set(['Attrition']))"
   ]
  },
  {
   "cell_type": "code",
   "execution_count": 7,
   "metadata": {},
   "outputs": [
    {
     "data": {
      "text/plain": [
       "['Age',\n",
       " 'DailyRate',\n",
       " 'DistanceFromHome',\n",
       " 'Education',\n",
       " 'EmployeeCount',\n",
       " 'EmployeeNumber',\n",
       " 'EnvironmentSatisfaction',\n",
       " 'HourlyRate',\n",
       " 'JobInvolvement',\n",
       " 'JobLevel',\n",
       " 'JobSatisfaction',\n",
       " 'MonthlyIncome',\n",
       " 'MonthlyRate',\n",
       " 'NumCompaniesWorked',\n",
       " 'PercentSalaryHike',\n",
       " 'PerformanceRating',\n",
       " 'RelationshipSatisfaction',\n",
       " 'StandardHours',\n",
       " 'StockOptionLevel',\n",
       " 'TotalWorkingYears',\n",
       " 'TrainingTimesLastYear',\n",
       " 'WorkLifeBalance',\n",
       " 'YearsAtCompany',\n",
       " 'YearsInCurrentRole',\n",
       " 'YearsSinceLastPromotion',\n",
       " 'YearsWithCurrManager']"
      ]
     },
     "execution_count": 7,
     "metadata": {},
     "output_type": "execute_result"
    }
   ],
   "source": [
    "sorted(numerical_variables)"
   ]
  },
  {
   "cell_type": "markdown",
   "metadata": {},
   "source": [
    "## Do not alter the below cell. It is a test case for Question 2"
   ]
  },
  {
   "cell_type": "code",
   "execution_count": 8,
   "metadata": {},
   "outputs": [
    {
     "data": {
      "text/plain": [
       "{'question 1': 'pass', 'question 2': 'pass'}"
      ]
     },
     "execution_count": 8,
     "metadata": {},
     "output_type": "execute_result"
    }
   ],
   "source": [
    "try:\n",
    "    if ((sorted(numerical_variables) == ['Age','DailyRate','DistanceFromHome','Education',\n",
    "                                        'EmployeeCount','EmployeeNumber','EnvironmentSatisfaction',\n",
    "                                        'HourlyRate','JobInvolvement','JobLevel','JobSatisfaction',\n",
    "                                        'MonthlyIncome','MonthlyRate','NumCompaniesWorked','PercentSalaryHike',\n",
    "                                        'PerformanceRating','RelationshipSatisfaction','StandardHours',\n",
    "                                        'StockOptionLevel','TotalWorkingYears','TrainingTimesLastYear',\n",
    "                                        'WorkLifeBalance','YearsAtCompany','YearsInCurrentRole',\n",
    "                                        'YearsSinceLastPromotion','YearsWithCurrManager']) and \n",
    "    (sorted(categorical_variables) == ['BusinessTravel','Department','EducationField','Gender',\n",
    "                                          'JobRole','MaritalStatus','Over18','OverTime'])):\n",
    "        \n",
    "        score['question 2'] = 'pass'\n",
    "    else: \n",
    "        score['question 2'] = 'fail'\n",
    "except Exception:\n",
    "    score['question 2'] = 'fail'\n",
    "score"
   ]
  },
  {
   "cell_type": "markdown",
   "metadata": {},
   "source": [
    "###################################################################################################################"
   ]
  },
  {
   "cell_type": "markdown",
   "metadata": {},
   "source": [
    "# Question 3\n",
    "1. Identify the numerical variables with zero variance (i.e., zero standard deviation) and save them in a LIST\n",
    "\n",
    "\n",
    "2. Drop these numerical variables with zero variance (i.e., zero standard deviation) from the dataset df. The dataset df should not have these variables going forward. \n",
    "\n",
    "    * __Hints:__\n",
    "        * For each numerical variable, compute the standard deviation. If the standard deviation is zero, delete (i.e., drop) that variable from the dataset df. \n",
    "        * Check __Modules 5b: Dropping Variables__"
   ]
  },
  {
   "cell_type": "code",
   "execution_count": 9,
   "metadata": {},
   "outputs": [],
   "source": [
    "zero_variance_numerical_variables=[]\n",
    "for i in numerical_variables:\n",
    "    if df[i].std(axis=0, skipna = True)== 0.0:\n",
    "        zero_variance_numerical_variables.append(i)"
   ]
  },
  {
   "cell_type": "code",
   "execution_count": 10,
   "metadata": {},
   "outputs": [],
   "source": [
    "zero_variance_numerical_variables.sort()"
   ]
  },
  {
   "cell_type": "code",
   "execution_count": 11,
   "metadata": {},
   "outputs": [],
   "source": [
    "df = df.drop(zero_variance_numerical_variables, axis = 1)"
   ]
  },
  {
   "cell_type": "markdown",
   "metadata": {},
   "source": [
    "## Do not alter the below cell. It is a test case for Question 3"
   ]
  },
  {
   "cell_type": "code",
   "execution_count": 12,
   "metadata": {},
   "outputs": [
    {
     "data": {
      "text/plain": [
       "{'question 1': 'pass', 'question 2': 'pass', 'question 3': 'pass'}"
      ]
     },
     "execution_count": 12,
     "metadata": {},
     "output_type": "execute_result"
    }
   ],
   "source": [
    "try:\n",
    "    if (zero_variance_numerical_variables == ['EmployeeCount', 'StandardHours']):\n",
    "        score['question 3'] = 'pass'\n",
    "    else: \n",
    "        score['question 3'] = 'fail'\n",
    "except:\n",
    "    score['question 3'] = 'fail'\n",
    "score"
   ]
  },
  {
   "cell_type": "markdown",
   "metadata": {},
   "source": [
    "###################################################################################################################"
   ]
  },
  {
   "cell_type": "markdown",
   "metadata": {},
   "source": [
    "# Question 4\n",
    "1. Identify the categorical variables with zero variance (i.e., low cardinality) and save them in a LIST\n",
    "\n",
    "\n",
    "2. Drop these categorical variables with zero variance (i.e., low cardinality) from the dataset df. The dataset df should not have these variables going forward. \n",
    "\n",
    "    * __Hints:__\n",
    "        * For each categorical variable, find the number of levels. If the number of levels is 1, delete (i.e., drop) that variable from the dataset df. For example, if a variable named occupation has only \"Engineers\" across all the rows (i.e., one level), the variable does not contain any information. In other words, zero variation. \n",
    "        \n",
    "        * Check __Modules 5b: Dropping Variables__"
   ]
  },
  {
   "cell_type": "code",
   "execution_count": 13,
   "metadata": {},
   "outputs": [
    {
     "data": {
      "text/plain": [
       "['EducationField',\n",
       " 'Over18',\n",
       " 'OverTime',\n",
       " 'MaritalStatus',\n",
       " 'BusinessTravel',\n",
       " 'Gender',\n",
       " 'Department',\n",
       " 'JobRole']"
      ]
     },
     "execution_count": 13,
     "metadata": {},
     "output_type": "execute_result"
    }
   ],
   "source": [
    "categorical_variables"
   ]
  },
  {
   "cell_type": "code",
   "execution_count": 14,
   "metadata": {},
   "outputs": [],
   "source": [
    "zero_variance_categorical_variables = [] \n",
    "\n",
    "for i in categorical_variables: # for each categorical variables\n",
    "    if len(df[i].value_counts().index) == 1: # check how many levels it has and if it is one\n",
    "        zero_variance_categorical_variables.append(i) # the variable has zero variance as the cardinality is one "
   ]
  },
  {
   "cell_type": "code",
   "execution_count": 15,
   "metadata": {},
   "outputs": [],
   "source": [
    "df = df.drop(zero_variance_categorical_variables, axis = 1) # drops variables with 0 variance"
   ]
  },
  {
   "cell_type": "markdown",
   "metadata": {},
   "source": [
    "## Do not alter the below cell. It is a test case for Question 4"
   ]
  },
  {
   "cell_type": "code",
   "execution_count": 16,
   "metadata": {},
   "outputs": [
    {
     "data": {
      "text/plain": [
       "{'question 1': 'pass',\n",
       " 'question 2': 'pass',\n",
       " 'question 3': 'pass',\n",
       " 'question 4': 'pass'}"
      ]
     },
     "execution_count": 16,
     "metadata": {},
     "output_type": "execute_result"
    }
   ],
   "source": [
    "try:\n",
    "    if (zero_variance_categorical_variables == ['Over18']):\n",
    "        score['question 4'] = 'pass'\n",
    "    else: \n",
    "        score['question 4'] = 'fail'\n",
    "except:\n",
    "    score['question 4'] = 'fail'\n",
    "score"
   ]
  },
  {
   "cell_type": "markdown",
   "metadata": {},
   "source": [
    "###################################################################################################################"
   ]
  },
  {
   "cell_type": "markdown",
   "metadata": {},
   "source": [
    "# Question 5\n",
    "1. Find the categorical variables with very high variance (i.e., very high cardinality) and save them in a LIST. Use 200 as the threshold. In other words, the categorical variables over 200 levels should be considered as variables with high cardinality (i.e., with high variance). \n",
    "\n",
    "\n",
    "2. Drop the categorical variables with very high variance (i.e., very high cardinality) from the dataset df. The dataset df should not have these variables going forward. \n",
    "\n",
    "    * __Hints:__\n",
    "        * For each categorical variable, find the number of levels. If the number of levels is greater than 200, delete (i.e., drop) that variable from the dataset df. For example, \n",
    "        * Check __Modules 5b: Dropping Variables__"
   ]
  },
  {
   "cell_type": "code",
   "execution_count": 17,
   "metadata": {},
   "outputs": [
    {
     "data": {
      "text/plain": [
       "['EducationField',\n",
       " 'OverTime',\n",
       " 'MaritalStatus',\n",
       " 'BusinessTravel',\n",
       " 'Gender',\n",
       " 'Department',\n",
       " 'JobRole']"
      ]
     },
     "execution_count": 17,
     "metadata": {},
     "output_type": "execute_result"
    }
   ],
   "source": [
    "categorical_variables = list(set(df.dtypes[df.dtypes == object].index) - set(['Attrition']))\n",
    "categorical_variables"
   ]
  },
  {
   "cell_type": "code",
   "execution_count": 18,
   "metadata": {},
   "outputs": [
    {
     "name": "stdout",
     "output_type": "stream",
     "text": [
      "[]\n"
     ]
    }
   ],
   "source": [
    "high_cardinality_categorical_variables= [] \n",
    "\n",
    "for i in categorical_variables: \n",
    "    if len(df[i].value_counts().index) > 200: \n",
    "        high_cardinality_categorical_variables.append(i) \n",
    "\n",
    "print(high_cardinality_categorical_variables)"
   ]
  },
  {
   "cell_type": "code",
   "execution_count": 19,
   "metadata": {},
   "outputs": [],
   "source": [
    "df = df.drop(high_cardinality_categorical_variables, axis = 1)"
   ]
  },
  {
   "cell_type": "markdown",
   "metadata": {},
   "source": [
    "## Do not alter the below cell. It is a test case for Question 5"
   ]
  },
  {
   "cell_type": "code",
   "execution_count": 20,
   "metadata": {},
   "outputs": [
    {
     "data": {
      "text/plain": [
       "{'question 1': 'pass',\n",
       " 'question 2': 'pass',\n",
       " 'question 3': 'pass',\n",
       " 'question 4': 'pass',\n",
       " 'question 5': 'pass'}"
      ]
     },
     "execution_count": 20,
     "metadata": {},
     "output_type": "execute_result"
    }
   ],
   "source": [
    "try:\n",
    "    if (high_cardinality_categorical_variables == []):\n",
    "        score['question 5'] = 'pass'\n",
    "    else: \n",
    "        score['question 5'] = 'fail'\n",
    "except:\n",
    "    score['question 5'] = 'fail'\n",
    "score"
   ]
  },
  {
   "cell_type": "markdown",
   "metadata": {},
   "source": [
    "###################################################################################################################"
   ]
  },
  {
   "cell_type": "markdown",
   "metadata": {},
   "source": [
    "# Question 6"
   ]
  },
  {
   "cell_type": "markdown",
   "metadata": {},
   "source": [
    "1. Scale (i.e., standardize) the numerical variables in the dataset using the standardization method and drop the original numerical variables and only keep the standardized ones. \n",
    "\n",
    "2. The new standardized numerical variables should have the same variable names. For example, the age variable after being standardized should be named the same (i.e., age)\n",
    "\n",
    "    * __Hints__:\n",
    "        * Feature standardization makes the values of each feature in the data have zero-mean (when subtracting the mean in the numerator) and unit-variance. This method is widely used for normalization in many machine learning algorithms.\n",
    "        * Check __M5d: Standardization__"
   ]
  },
  {
   "cell_type": "code",
   "execution_count": 21,
   "metadata": {},
   "outputs": [
    {
     "data": {
      "text/html": [
       "<div>\n",
       "<style scoped>\n",
       "    .dataframe tbody tr th:only-of-type {\n",
       "        vertical-align: middle;\n",
       "    }\n",
       "\n",
       "    .dataframe tbody tr th {\n",
       "        vertical-align: top;\n",
       "    }\n",
       "\n",
       "    .dataframe thead th {\n",
       "        text-align: right;\n",
       "    }\n",
       "</style>\n",
       "<table border=\"1\" class=\"dataframe\">\n",
       "  <thead>\n",
       "    <tr style=\"text-align: right;\">\n",
       "      <th></th>\n",
       "      <th>Age</th>\n",
       "      <th>Attrition</th>\n",
       "      <th>BusinessTravel</th>\n",
       "      <th>DailyRate</th>\n",
       "      <th>Department</th>\n",
       "      <th>DistanceFromHome</th>\n",
       "      <th>Education</th>\n",
       "      <th>EducationField</th>\n",
       "      <th>EmployeeCount</th>\n",
       "      <th>EmployeeNumber</th>\n",
       "      <th>...</th>\n",
       "      <th>RelationshipSatisfaction</th>\n",
       "      <th>StandardHours</th>\n",
       "      <th>StockOptionLevel</th>\n",
       "      <th>TotalWorkingYears</th>\n",
       "      <th>TrainingTimesLastYear</th>\n",
       "      <th>WorkLifeBalance</th>\n",
       "      <th>YearsAtCompany</th>\n",
       "      <th>YearsInCurrentRole</th>\n",
       "      <th>YearsSinceLastPromotion</th>\n",
       "      <th>YearsWithCurrManager</th>\n",
       "    </tr>\n",
       "  </thead>\n",
       "  <tbody>\n",
       "    <tr>\n",
       "      <th>0</th>\n",
       "      <td>0.446350</td>\n",
       "      <td>Yes</td>\n",
       "      <td>Travel_Rarely</td>\n",
       "      <td>0.742527</td>\n",
       "      <td>Sales</td>\n",
       "      <td>-1.010909</td>\n",
       "      <td>-0.891688</td>\n",
       "      <td>Life Sciences</td>\n",
       "      <td>1</td>\n",
       "      <td>-1.701283</td>\n",
       "      <td>...</td>\n",
       "      <td>-1.584178</td>\n",
       "      <td>80</td>\n",
       "      <td>-0.932014</td>\n",
       "      <td>-0.421642</td>\n",
       "      <td>-2.171982</td>\n",
       "      <td>-2.493820</td>\n",
       "      <td>-0.164613</td>\n",
       "      <td>-0.063296</td>\n",
       "      <td>-0.679146</td>\n",
       "      <td>0.245834</td>\n",
       "    </tr>\n",
       "    <tr>\n",
       "      <th>1</th>\n",
       "      <td>1.322365</td>\n",
       "      <td>No</td>\n",
       "      <td>Travel_Frequently</td>\n",
       "      <td>-1.297775</td>\n",
       "      <td>Research &amp; Development</td>\n",
       "      <td>-0.147150</td>\n",
       "      <td>-1.868426</td>\n",
       "      <td>Life Sciences</td>\n",
       "      <td>1</td>\n",
       "      <td>-1.699621</td>\n",
       "      <td>...</td>\n",
       "      <td>1.191438</td>\n",
       "      <td>80</td>\n",
       "      <td>0.241988</td>\n",
       "      <td>-0.164511</td>\n",
       "      <td>0.155707</td>\n",
       "      <td>0.338096</td>\n",
       "      <td>0.488508</td>\n",
       "      <td>0.764998</td>\n",
       "      <td>-0.368715</td>\n",
       "      <td>0.806541</td>\n",
       "    </tr>\n",
       "    <tr>\n",
       "      <th>2</th>\n",
       "      <td>0.008343</td>\n",
       "      <td>Yes</td>\n",
       "      <td>Travel_Rarely</td>\n",
       "      <td>1.414363</td>\n",
       "      <td>Research &amp; Development</td>\n",
       "      <td>-0.887515</td>\n",
       "      <td>-0.891688</td>\n",
       "      <td>Other</td>\n",
       "      <td>1</td>\n",
       "      <td>-1.696298</td>\n",
       "      <td>...</td>\n",
       "      <td>-0.658973</td>\n",
       "      <td>80</td>\n",
       "      <td>-0.932014</td>\n",
       "      <td>-0.550208</td>\n",
       "      <td>0.155707</td>\n",
       "      <td>0.338096</td>\n",
       "      <td>-1.144294</td>\n",
       "      <td>-1.167687</td>\n",
       "      <td>-0.679146</td>\n",
       "      <td>-1.155935</td>\n",
       "    </tr>\n",
       "    <tr>\n",
       "      <th>3</th>\n",
       "      <td>-0.429664</td>\n",
       "      <td>No</td>\n",
       "      <td>Travel_Frequently</td>\n",
       "      <td>1.461466</td>\n",
       "      <td>Research &amp; Development</td>\n",
       "      <td>-0.764121</td>\n",
       "      <td>1.061787</td>\n",
       "      <td>Life Sciences</td>\n",
       "      <td>1</td>\n",
       "      <td>-1.694636</td>\n",
       "      <td>...</td>\n",
       "      <td>0.266233</td>\n",
       "      <td>80</td>\n",
       "      <td>-0.932014</td>\n",
       "      <td>-0.421642</td>\n",
       "      <td>0.155707</td>\n",
       "      <td>0.338096</td>\n",
       "      <td>0.161947</td>\n",
       "      <td>0.764998</td>\n",
       "      <td>0.252146</td>\n",
       "      <td>-1.155935</td>\n",
       "    </tr>\n",
       "    <tr>\n",
       "      <th>4</th>\n",
       "      <td>-1.086676</td>\n",
       "      <td>No</td>\n",
       "      <td>Travel_Rarely</td>\n",
       "      <td>-0.524295</td>\n",
       "      <td>Research &amp; Development</td>\n",
       "      <td>-0.887515</td>\n",
       "      <td>-1.868426</td>\n",
       "      <td>Medical</td>\n",
       "      <td>1</td>\n",
       "      <td>-1.691313</td>\n",
       "      <td>...</td>\n",
       "      <td>1.191438</td>\n",
       "      <td>80</td>\n",
       "      <td>0.241988</td>\n",
       "      <td>-0.678774</td>\n",
       "      <td>0.155707</td>\n",
       "      <td>0.338096</td>\n",
       "      <td>-0.817734</td>\n",
       "      <td>-0.615492</td>\n",
       "      <td>-0.058285</td>\n",
       "      <td>-0.595227</td>\n",
       "    </tr>\n",
       "    <tr>\n",
       "      <th>...</th>\n",
       "      <td>...</td>\n",
       "      <td>...</td>\n",
       "      <td>...</td>\n",
       "      <td>...</td>\n",
       "      <td>...</td>\n",
       "      <td>...</td>\n",
       "      <td>...</td>\n",
       "      <td>...</td>\n",
       "      <td>...</td>\n",
       "      <td>...</td>\n",
       "      <td>...</td>\n",
       "      <td>...</td>\n",
       "      <td>...</td>\n",
       "      <td>...</td>\n",
       "      <td>...</td>\n",
       "      <td>...</td>\n",
       "      <td>...</td>\n",
       "      <td>...</td>\n",
       "      <td>...</td>\n",
       "      <td>...</td>\n",
       "      <td>...</td>\n",
       "    </tr>\n",
       "    <tr>\n",
       "      <th>1465</th>\n",
       "      <td>-0.101159</td>\n",
       "      <td>No</td>\n",
       "      <td>Travel_Frequently</td>\n",
       "      <td>0.202082</td>\n",
       "      <td>Research &amp; Development</td>\n",
       "      <td>1.703764</td>\n",
       "      <td>-0.891688</td>\n",
       "      <td>Medical</td>\n",
       "      <td>1</td>\n",
       "      <td>1.721670</td>\n",
       "      <td>...</td>\n",
       "      <td>0.266233</td>\n",
       "      <td>80</td>\n",
       "      <td>0.241988</td>\n",
       "      <td>0.735447</td>\n",
       "      <td>0.155707</td>\n",
       "      <td>0.338096</td>\n",
       "      <td>-0.327893</td>\n",
       "      <td>-0.615492</td>\n",
       "      <td>-0.679146</td>\n",
       "      <td>-0.314873</td>\n",
       "    </tr>\n",
       "    <tr>\n",
       "      <th>1466</th>\n",
       "      <td>0.227347</td>\n",
       "      <td>No</td>\n",
       "      <td>Travel_Rarely</td>\n",
       "      <td>-0.469754</td>\n",
       "      <td>Research &amp; Development</td>\n",
       "      <td>-0.393938</td>\n",
       "      <td>-1.868426</td>\n",
       "      <td>Medical</td>\n",
       "      <td>1</td>\n",
       "      <td>1.723332</td>\n",
       "      <td>...</td>\n",
       "      <td>-1.584178</td>\n",
       "      <td>80</td>\n",
       "      <td>0.241988</td>\n",
       "      <td>-0.293077</td>\n",
       "      <td>1.707500</td>\n",
       "      <td>0.338096</td>\n",
       "      <td>-0.001333</td>\n",
       "      <td>0.764998</td>\n",
       "      <td>-0.368715</td>\n",
       "      <td>0.806541</td>\n",
       "    </tr>\n",
       "    <tr>\n",
       "      <th>1467</th>\n",
       "      <td>-1.086676</td>\n",
       "      <td>No</td>\n",
       "      <td>Travel_Rarely</td>\n",
       "      <td>-1.605183</td>\n",
       "      <td>Research &amp; Development</td>\n",
       "      <td>-0.640727</td>\n",
       "      <td>0.085049</td>\n",
       "      <td>Life Sciences</td>\n",
       "      <td>1</td>\n",
       "      <td>1.726655</td>\n",
       "      <td>...</td>\n",
       "      <td>-0.658973</td>\n",
       "      <td>80</td>\n",
       "      <td>0.241988</td>\n",
       "      <td>-0.678774</td>\n",
       "      <td>-2.171982</td>\n",
       "      <td>0.338096</td>\n",
       "      <td>-0.164613</td>\n",
       "      <td>-0.615492</td>\n",
       "      <td>-0.679146</td>\n",
       "      <td>-0.314873</td>\n",
       "    </tr>\n",
       "    <tr>\n",
       "      <th>1468</th>\n",
       "      <td>1.322365</td>\n",
       "      <td>No</td>\n",
       "      <td>Travel_Frequently</td>\n",
       "      <td>0.546677</td>\n",
       "      <td>Sales</td>\n",
       "      <td>-0.887515</td>\n",
       "      <td>0.085049</td>\n",
       "      <td>Medical</td>\n",
       "      <td>1</td>\n",
       "      <td>1.728317</td>\n",
       "      <td>...</td>\n",
       "      <td>1.191438</td>\n",
       "      <td>80</td>\n",
       "      <td>-0.932014</td>\n",
       "      <td>0.735447</td>\n",
       "      <td>0.155707</td>\n",
       "      <td>-1.077862</td>\n",
       "      <td>0.325228</td>\n",
       "      <td>0.488900</td>\n",
       "      <td>-0.679146</td>\n",
       "      <td>1.086895</td>\n",
       "    </tr>\n",
       "    <tr>\n",
       "      <th>1469</th>\n",
       "      <td>-0.320163</td>\n",
       "      <td>No</td>\n",
       "      <td>Travel_Rarely</td>\n",
       "      <td>-0.432568</td>\n",
       "      <td>Research &amp; Development</td>\n",
       "      <td>-0.147150</td>\n",
       "      <td>0.085049</td>\n",
       "      <td>Medical</td>\n",
       "      <td>1</td>\n",
       "      <td>1.733302</td>\n",
       "      <td>...</td>\n",
       "      <td>-1.584178</td>\n",
       "      <td>80</td>\n",
       "      <td>-0.932014</td>\n",
       "      <td>-0.678774</td>\n",
       "      <td>0.155707</td>\n",
       "      <td>1.754054</td>\n",
       "      <td>-0.491174</td>\n",
       "      <td>-0.339394</td>\n",
       "      <td>-0.368715</td>\n",
       "      <td>-0.595227</td>\n",
       "    </tr>\n",
       "  </tbody>\n",
       "</table>\n",
       "<p>1470 rows × 35 columns</p>\n",
       "</div>"
      ],
      "text/plain": [
       "           Age Attrition     BusinessTravel  DailyRate  \\\n",
       "0     0.446350       Yes      Travel_Rarely   0.742527   \n",
       "1     1.322365        No  Travel_Frequently  -1.297775   \n",
       "2     0.008343       Yes      Travel_Rarely   1.414363   \n",
       "3    -0.429664        No  Travel_Frequently   1.461466   \n",
       "4    -1.086676        No      Travel_Rarely  -0.524295   \n",
       "...        ...       ...                ...        ...   \n",
       "1465 -0.101159        No  Travel_Frequently   0.202082   \n",
       "1466  0.227347        No      Travel_Rarely  -0.469754   \n",
       "1467 -1.086676        No      Travel_Rarely  -1.605183   \n",
       "1468  1.322365        No  Travel_Frequently   0.546677   \n",
       "1469 -0.320163        No      Travel_Rarely  -0.432568   \n",
       "\n",
       "                  Department  DistanceFromHome  Education EducationField  \\\n",
       "0                      Sales         -1.010909  -0.891688  Life Sciences   \n",
       "1     Research & Development         -0.147150  -1.868426  Life Sciences   \n",
       "2     Research & Development         -0.887515  -0.891688          Other   \n",
       "3     Research & Development         -0.764121   1.061787  Life Sciences   \n",
       "4     Research & Development         -0.887515  -1.868426        Medical   \n",
       "...                      ...               ...        ...            ...   \n",
       "1465  Research & Development          1.703764  -0.891688        Medical   \n",
       "1466  Research & Development         -0.393938  -1.868426        Medical   \n",
       "1467  Research & Development         -0.640727   0.085049  Life Sciences   \n",
       "1468                   Sales         -0.887515   0.085049        Medical   \n",
       "1469  Research & Development         -0.147150   0.085049        Medical   \n",
       "\n",
       "      EmployeeCount  EmployeeNumber  ...  RelationshipSatisfaction  \\\n",
       "0                 1       -1.701283  ...                 -1.584178   \n",
       "1                 1       -1.699621  ...                  1.191438   \n",
       "2                 1       -1.696298  ...                 -0.658973   \n",
       "3                 1       -1.694636  ...                  0.266233   \n",
       "4                 1       -1.691313  ...                  1.191438   \n",
       "...             ...             ...  ...                       ...   \n",
       "1465              1        1.721670  ...                  0.266233   \n",
       "1466              1        1.723332  ...                 -1.584178   \n",
       "1467              1        1.726655  ...                 -0.658973   \n",
       "1468              1        1.728317  ...                  1.191438   \n",
       "1469              1        1.733302  ...                 -1.584178   \n",
       "\n",
       "     StandardHours  StockOptionLevel  TotalWorkingYears  \\\n",
       "0               80         -0.932014          -0.421642   \n",
       "1               80          0.241988          -0.164511   \n",
       "2               80         -0.932014          -0.550208   \n",
       "3               80         -0.932014          -0.421642   \n",
       "4               80          0.241988          -0.678774   \n",
       "...            ...               ...                ...   \n",
       "1465            80          0.241988           0.735447   \n",
       "1466            80          0.241988          -0.293077   \n",
       "1467            80          0.241988          -0.678774   \n",
       "1468            80         -0.932014           0.735447   \n",
       "1469            80         -0.932014          -0.678774   \n",
       "\n",
       "      TrainingTimesLastYear WorkLifeBalance  YearsAtCompany  \\\n",
       "0                 -2.171982       -2.493820       -0.164613   \n",
       "1                  0.155707        0.338096        0.488508   \n",
       "2                  0.155707        0.338096       -1.144294   \n",
       "3                  0.155707        0.338096        0.161947   \n",
       "4                  0.155707        0.338096       -0.817734   \n",
       "...                     ...             ...             ...   \n",
       "1465               0.155707        0.338096       -0.327893   \n",
       "1466               1.707500        0.338096       -0.001333   \n",
       "1467              -2.171982        0.338096       -0.164613   \n",
       "1468               0.155707       -1.077862        0.325228   \n",
       "1469               0.155707        1.754054       -0.491174   \n",
       "\n",
       "     YearsInCurrentRole  YearsSinceLastPromotion  YearsWithCurrManager  \n",
       "0             -0.063296                -0.679146              0.245834  \n",
       "1              0.764998                -0.368715              0.806541  \n",
       "2             -1.167687                -0.679146             -1.155935  \n",
       "3              0.764998                 0.252146             -1.155935  \n",
       "4             -0.615492                -0.058285             -0.595227  \n",
       "...                 ...                      ...                   ...  \n",
       "1465          -0.615492                -0.679146             -0.314873  \n",
       "1466           0.764998                -0.368715              0.806541  \n",
       "1467          -0.615492                -0.679146             -0.314873  \n",
       "1468           0.488900                -0.679146              1.086895  \n",
       "1469          -0.339394                -0.368715             -0.595227  \n",
       "\n",
       "[1470 rows x 35 columns]"
      ]
     },
     "execution_count": 21,
     "metadata": {},
     "output_type": "execute_result"
    }
   ],
   "source": [
    "# Imports the StandardScaler module from sklearn\n",
    "from sklearn.preprocessing import StandardScaler \n",
    "\n",
    "# Reads the dataset\n",
    "df_new = pd.read_csv('employee_attrition.csv')\n",
    "\n",
    "# Extracts the numerical values\n",
    "numerical_val = list(df.select_dtypes(exclude = object).columns)\n",
    "\n",
    "# Creates a column names for standardized values\n",
    "new_col = [i for i in numerical_val] \n",
    "\n",
    "# Converts the df[numerical_val] to numpy array\n",
    "array = df_new[numerical_val].values \n",
    "\n",
    "# Creates standarization instance\n",
    "data_scaler = StandardScaler().fit(array) \n",
    "\n",
    "# Standardize the numerical variables\n",
    "df_new[new_col] = pd.DataFrame(data_scaler.transform(array))\n",
    "\n",
    "df = df_new\n",
    "\n",
    "# Extracts the first five records\n",
    "df"
   ]
  },
  {
   "cell_type": "code",
   "execution_count": 22,
   "metadata": {},
   "outputs": [
    {
     "data": {
      "text/plain": [
       "1.000340309691664"
      ]
     },
     "execution_count": 22,
     "metadata": {},
     "output_type": "execute_result"
    }
   ],
   "source": [
    "df['Age'].std()"
   ]
  },
  {
   "cell_type": "code",
   "execution_count": 23,
   "metadata": {},
   "outputs": [
    {
     "data": {
      "text/plain": [
       "1.0003403096916612"
      ]
     },
     "execution_count": 23,
     "metadata": {},
     "output_type": "execute_result"
    }
   ],
   "source": [
    "df['DailyRate'].std()"
   ]
  },
  {
   "cell_type": "markdown",
   "metadata": {},
   "source": [
    "## Do not alter the below cell. It is a test case for Question 6"
   ]
  },
  {
   "cell_type": "code",
   "execution_count": 24,
   "metadata": {},
   "outputs": [
    {
     "data": {
      "text/plain": [
       "{'question 1': 'pass',\n",
       " 'question 2': 'pass',\n",
       " 'question 3': 'pass',\n",
       " 'question 4': 'pass',\n",
       " 'question 5': 'pass',\n",
       " 'question 6': 'pass'}"
      ]
     },
     "execution_count": 24,
     "metadata": {},
     "output_type": "execute_result"
    }
   ],
   "source": [
    "try:\n",
    "    if ((df['Age'].max() == 2.526885578888087) and (df['DailyRate'].max() == 1.7267301192801021)):\n",
    "        score['question 6'] = 'pass'\n",
    "    else: \n",
    "        score['question 6'] = 'fail'\n",
    "except:\n",
    "    score['question 6'] = 'fail'\n",
    "score"
   ]
  },
  {
   "cell_type": "markdown",
   "metadata": {},
   "source": [
    "###################################################################################################################"
   ]
  },
  {
   "cell_type": "markdown",
   "metadata": {},
   "source": [
    "# Question 7\n",
    "1. Encode the categorical input variables. Do not encode the target variable __Attrition.__ You will do that in the following question.\n",
    "\n",
    "    * __Hints:__\n",
    "        * You will create dummies for categorical variables. \n",
    "        * Example: Let's say you have a variable named occupation. This variable has three levels: Engineer, Teacher, Manager. We will use binary encoding and create dummies for each of these levels to be able to encode the occupation variable. \n",
    "        * Technically, we are converting the categorical variable into new numerical variables.\n",
    "        * We will have two new variables for this occupation variable, such as occupation_teacher, occupation_manager. We do not need occupation_teacher because we can infer if the person is a teacher by checking occupation_manager and occupation_engineer variables. \n",
    "        * For example: If occupation_enginner and occupation_manager are zero, then this person is a teacher. \n",
    "        * If occupation_engineer is 1, this person is an engineer.\n",
    "        * Check __Module 5g: Encoding Categorical Variables__"
   ]
  },
  {
   "cell_type": "code",
   "execution_count": 25,
   "metadata": {},
   "outputs": [
    {
     "data": {
      "text/plain": [
       "['EducationField',\n",
       " 'Over18',\n",
       " 'OverTime',\n",
       " 'MaritalStatus',\n",
       " 'BusinessTravel',\n",
       " 'Gender',\n",
       " 'Department',\n",
       " 'JobRole']"
      ]
     },
     "execution_count": 25,
     "metadata": {},
     "output_type": "execute_result"
    }
   ],
   "source": [
    "categorical_variables = list(set(df.dtypes[df.dtypes == object].index) - set(['Attrition']))\n",
    "\n",
    "categorical_variables"
   ]
  },
  {
   "cell_type": "code",
   "execution_count": 26,
   "metadata": {},
   "outputs": [
    {
     "data": {
      "text/html": [
       "<div>\n",
       "<style scoped>\n",
       "    .dataframe tbody tr th:only-of-type {\n",
       "        vertical-align: middle;\n",
       "    }\n",
       "\n",
       "    .dataframe tbody tr th {\n",
       "        vertical-align: top;\n",
       "    }\n",
       "\n",
       "    .dataframe thead th {\n",
       "        text-align: right;\n",
       "    }\n",
       "</style>\n",
       "<table border=\"1\" class=\"dataframe\">\n",
       "  <thead>\n",
       "    <tr style=\"text-align: right;\">\n",
       "      <th></th>\n",
       "      <th>EducationField_Life Sciences</th>\n",
       "      <th>EducationField_Marketing</th>\n",
       "      <th>EducationField_Medical</th>\n",
       "      <th>EducationField_Other</th>\n",
       "      <th>EducationField_Technical Degree</th>\n",
       "      <th>OverTime_Yes</th>\n",
       "      <th>MaritalStatus_Married</th>\n",
       "      <th>MaritalStatus_Single</th>\n",
       "      <th>BusinessTravel_Travel_Frequently</th>\n",
       "      <th>BusinessTravel_Travel_Rarely</th>\n",
       "      <th>...</th>\n",
       "      <th>Department_Research &amp; Development</th>\n",
       "      <th>Department_Sales</th>\n",
       "      <th>JobRole_Human Resources</th>\n",
       "      <th>JobRole_Laboratory Technician</th>\n",
       "      <th>JobRole_Manager</th>\n",
       "      <th>JobRole_Manufacturing Director</th>\n",
       "      <th>JobRole_Research Director</th>\n",
       "      <th>JobRole_Research Scientist</th>\n",
       "      <th>JobRole_Sales Executive</th>\n",
       "      <th>JobRole_Sales Representative</th>\n",
       "    </tr>\n",
       "  </thead>\n",
       "  <tbody>\n",
       "    <tr>\n",
       "      <th>0</th>\n",
       "      <td>1</td>\n",
       "      <td>0</td>\n",
       "      <td>0</td>\n",
       "      <td>0</td>\n",
       "      <td>0</td>\n",
       "      <td>1</td>\n",
       "      <td>0</td>\n",
       "      <td>1</td>\n",
       "      <td>0</td>\n",
       "      <td>1</td>\n",
       "      <td>...</td>\n",
       "      <td>0</td>\n",
       "      <td>1</td>\n",
       "      <td>0</td>\n",
       "      <td>0</td>\n",
       "      <td>0</td>\n",
       "      <td>0</td>\n",
       "      <td>0</td>\n",
       "      <td>0</td>\n",
       "      <td>1</td>\n",
       "      <td>0</td>\n",
       "    </tr>\n",
       "    <tr>\n",
       "      <th>1</th>\n",
       "      <td>1</td>\n",
       "      <td>0</td>\n",
       "      <td>0</td>\n",
       "      <td>0</td>\n",
       "      <td>0</td>\n",
       "      <td>0</td>\n",
       "      <td>1</td>\n",
       "      <td>0</td>\n",
       "      <td>1</td>\n",
       "      <td>0</td>\n",
       "      <td>...</td>\n",
       "      <td>1</td>\n",
       "      <td>0</td>\n",
       "      <td>0</td>\n",
       "      <td>0</td>\n",
       "      <td>0</td>\n",
       "      <td>0</td>\n",
       "      <td>0</td>\n",
       "      <td>1</td>\n",
       "      <td>0</td>\n",
       "      <td>0</td>\n",
       "    </tr>\n",
       "    <tr>\n",
       "      <th>2</th>\n",
       "      <td>0</td>\n",
       "      <td>0</td>\n",
       "      <td>0</td>\n",
       "      <td>1</td>\n",
       "      <td>0</td>\n",
       "      <td>1</td>\n",
       "      <td>0</td>\n",
       "      <td>1</td>\n",
       "      <td>0</td>\n",
       "      <td>1</td>\n",
       "      <td>...</td>\n",
       "      <td>1</td>\n",
       "      <td>0</td>\n",
       "      <td>0</td>\n",
       "      <td>1</td>\n",
       "      <td>0</td>\n",
       "      <td>0</td>\n",
       "      <td>0</td>\n",
       "      <td>0</td>\n",
       "      <td>0</td>\n",
       "      <td>0</td>\n",
       "    </tr>\n",
       "    <tr>\n",
       "      <th>3</th>\n",
       "      <td>1</td>\n",
       "      <td>0</td>\n",
       "      <td>0</td>\n",
       "      <td>0</td>\n",
       "      <td>0</td>\n",
       "      <td>1</td>\n",
       "      <td>1</td>\n",
       "      <td>0</td>\n",
       "      <td>1</td>\n",
       "      <td>0</td>\n",
       "      <td>...</td>\n",
       "      <td>1</td>\n",
       "      <td>0</td>\n",
       "      <td>0</td>\n",
       "      <td>0</td>\n",
       "      <td>0</td>\n",
       "      <td>0</td>\n",
       "      <td>0</td>\n",
       "      <td>1</td>\n",
       "      <td>0</td>\n",
       "      <td>0</td>\n",
       "    </tr>\n",
       "    <tr>\n",
       "      <th>4</th>\n",
       "      <td>0</td>\n",
       "      <td>0</td>\n",
       "      <td>1</td>\n",
       "      <td>0</td>\n",
       "      <td>0</td>\n",
       "      <td>0</td>\n",
       "      <td>1</td>\n",
       "      <td>0</td>\n",
       "      <td>0</td>\n",
       "      <td>1</td>\n",
       "      <td>...</td>\n",
       "      <td>1</td>\n",
       "      <td>0</td>\n",
       "      <td>0</td>\n",
       "      <td>1</td>\n",
       "      <td>0</td>\n",
       "      <td>0</td>\n",
       "      <td>0</td>\n",
       "      <td>0</td>\n",
       "      <td>0</td>\n",
       "      <td>0</td>\n",
       "    </tr>\n",
       "    <tr>\n",
       "      <th>...</th>\n",
       "      <td>...</td>\n",
       "      <td>...</td>\n",
       "      <td>...</td>\n",
       "      <td>...</td>\n",
       "      <td>...</td>\n",
       "      <td>...</td>\n",
       "      <td>...</td>\n",
       "      <td>...</td>\n",
       "      <td>...</td>\n",
       "      <td>...</td>\n",
       "      <td>...</td>\n",
       "      <td>...</td>\n",
       "      <td>...</td>\n",
       "      <td>...</td>\n",
       "      <td>...</td>\n",
       "      <td>...</td>\n",
       "      <td>...</td>\n",
       "      <td>...</td>\n",
       "      <td>...</td>\n",
       "      <td>...</td>\n",
       "      <td>...</td>\n",
       "    </tr>\n",
       "    <tr>\n",
       "      <th>1465</th>\n",
       "      <td>0</td>\n",
       "      <td>0</td>\n",
       "      <td>1</td>\n",
       "      <td>0</td>\n",
       "      <td>0</td>\n",
       "      <td>0</td>\n",
       "      <td>1</td>\n",
       "      <td>0</td>\n",
       "      <td>1</td>\n",
       "      <td>0</td>\n",
       "      <td>...</td>\n",
       "      <td>1</td>\n",
       "      <td>0</td>\n",
       "      <td>0</td>\n",
       "      <td>1</td>\n",
       "      <td>0</td>\n",
       "      <td>0</td>\n",
       "      <td>0</td>\n",
       "      <td>0</td>\n",
       "      <td>0</td>\n",
       "      <td>0</td>\n",
       "    </tr>\n",
       "    <tr>\n",
       "      <th>1466</th>\n",
       "      <td>0</td>\n",
       "      <td>0</td>\n",
       "      <td>1</td>\n",
       "      <td>0</td>\n",
       "      <td>0</td>\n",
       "      <td>0</td>\n",
       "      <td>1</td>\n",
       "      <td>0</td>\n",
       "      <td>0</td>\n",
       "      <td>1</td>\n",
       "      <td>...</td>\n",
       "      <td>1</td>\n",
       "      <td>0</td>\n",
       "      <td>0</td>\n",
       "      <td>0</td>\n",
       "      <td>0</td>\n",
       "      <td>0</td>\n",
       "      <td>0</td>\n",
       "      <td>0</td>\n",
       "      <td>0</td>\n",
       "      <td>0</td>\n",
       "    </tr>\n",
       "    <tr>\n",
       "      <th>1467</th>\n",
       "      <td>1</td>\n",
       "      <td>0</td>\n",
       "      <td>0</td>\n",
       "      <td>0</td>\n",
       "      <td>0</td>\n",
       "      <td>1</td>\n",
       "      <td>1</td>\n",
       "      <td>0</td>\n",
       "      <td>0</td>\n",
       "      <td>1</td>\n",
       "      <td>...</td>\n",
       "      <td>1</td>\n",
       "      <td>0</td>\n",
       "      <td>0</td>\n",
       "      <td>0</td>\n",
       "      <td>0</td>\n",
       "      <td>1</td>\n",
       "      <td>0</td>\n",
       "      <td>0</td>\n",
       "      <td>0</td>\n",
       "      <td>0</td>\n",
       "    </tr>\n",
       "    <tr>\n",
       "      <th>1468</th>\n",
       "      <td>0</td>\n",
       "      <td>0</td>\n",
       "      <td>1</td>\n",
       "      <td>0</td>\n",
       "      <td>0</td>\n",
       "      <td>0</td>\n",
       "      <td>1</td>\n",
       "      <td>0</td>\n",
       "      <td>1</td>\n",
       "      <td>0</td>\n",
       "      <td>...</td>\n",
       "      <td>0</td>\n",
       "      <td>1</td>\n",
       "      <td>0</td>\n",
       "      <td>0</td>\n",
       "      <td>0</td>\n",
       "      <td>0</td>\n",
       "      <td>0</td>\n",
       "      <td>0</td>\n",
       "      <td>1</td>\n",
       "      <td>0</td>\n",
       "    </tr>\n",
       "    <tr>\n",
       "      <th>1469</th>\n",
       "      <td>0</td>\n",
       "      <td>0</td>\n",
       "      <td>1</td>\n",
       "      <td>0</td>\n",
       "      <td>0</td>\n",
       "      <td>0</td>\n",
       "      <td>1</td>\n",
       "      <td>0</td>\n",
       "      <td>0</td>\n",
       "      <td>1</td>\n",
       "      <td>...</td>\n",
       "      <td>1</td>\n",
       "      <td>0</td>\n",
       "      <td>0</td>\n",
       "      <td>1</td>\n",
       "      <td>0</td>\n",
       "      <td>0</td>\n",
       "      <td>0</td>\n",
       "      <td>0</td>\n",
       "      <td>0</td>\n",
       "      <td>0</td>\n",
       "    </tr>\n",
       "  </tbody>\n",
       "</table>\n",
       "<p>1470 rows × 21 columns</p>\n",
       "</div>"
      ],
      "text/plain": [
       "      EducationField_Life Sciences  EducationField_Marketing  \\\n",
       "0                                1                         0   \n",
       "1                                1                         0   \n",
       "2                                0                         0   \n",
       "3                                1                         0   \n",
       "4                                0                         0   \n",
       "...                            ...                       ...   \n",
       "1465                             0                         0   \n",
       "1466                             0                         0   \n",
       "1467                             1                         0   \n",
       "1468                             0                         0   \n",
       "1469                             0                         0   \n",
       "\n",
       "      EducationField_Medical  EducationField_Other  \\\n",
       "0                          0                     0   \n",
       "1                          0                     0   \n",
       "2                          0                     1   \n",
       "3                          0                     0   \n",
       "4                          1                     0   \n",
       "...                      ...                   ...   \n",
       "1465                       1                     0   \n",
       "1466                       1                     0   \n",
       "1467                       0                     0   \n",
       "1468                       1                     0   \n",
       "1469                       1                     0   \n",
       "\n",
       "      EducationField_Technical Degree  OverTime_Yes  MaritalStatus_Married  \\\n",
       "0                                   0             1                      0   \n",
       "1                                   0             0                      1   \n",
       "2                                   0             1                      0   \n",
       "3                                   0             1                      1   \n",
       "4                                   0             0                      1   \n",
       "...                               ...           ...                    ...   \n",
       "1465                                0             0                      1   \n",
       "1466                                0             0                      1   \n",
       "1467                                0             1                      1   \n",
       "1468                                0             0                      1   \n",
       "1469                                0             0                      1   \n",
       "\n",
       "      MaritalStatus_Single  BusinessTravel_Travel_Frequently  \\\n",
       "0                        1                                 0   \n",
       "1                        0                                 1   \n",
       "2                        1                                 0   \n",
       "3                        0                                 1   \n",
       "4                        0                                 0   \n",
       "...                    ...                               ...   \n",
       "1465                     0                                 1   \n",
       "1466                     0                                 0   \n",
       "1467                     0                                 0   \n",
       "1468                     0                                 1   \n",
       "1469                     0                                 0   \n",
       "\n",
       "      BusinessTravel_Travel_Rarely  ...  Department_Research & Development  \\\n",
       "0                                1  ...                                  0   \n",
       "1                                0  ...                                  1   \n",
       "2                                1  ...                                  1   \n",
       "3                                0  ...                                  1   \n",
       "4                                1  ...                                  1   \n",
       "...                            ...  ...                                ...   \n",
       "1465                             0  ...                                  1   \n",
       "1466                             1  ...                                  1   \n",
       "1467                             1  ...                                  1   \n",
       "1468                             0  ...                                  0   \n",
       "1469                             1  ...                                  1   \n",
       "\n",
       "      Department_Sales  JobRole_Human Resources  \\\n",
       "0                    1                        0   \n",
       "1                    0                        0   \n",
       "2                    0                        0   \n",
       "3                    0                        0   \n",
       "4                    0                        0   \n",
       "...                ...                      ...   \n",
       "1465                 0                        0   \n",
       "1466                 0                        0   \n",
       "1467                 0                        0   \n",
       "1468                 1                        0   \n",
       "1469                 0                        0   \n",
       "\n",
       "      JobRole_Laboratory Technician  JobRole_Manager  \\\n",
       "0                                 0                0   \n",
       "1                                 0                0   \n",
       "2                                 1                0   \n",
       "3                                 0                0   \n",
       "4                                 1                0   \n",
       "...                             ...              ...   \n",
       "1465                              1                0   \n",
       "1466                              0                0   \n",
       "1467                              0                0   \n",
       "1468                              0                0   \n",
       "1469                              1                0   \n",
       "\n",
       "      JobRole_Manufacturing Director  JobRole_Research Director  \\\n",
       "0                                  0                          0   \n",
       "1                                  0                          0   \n",
       "2                                  0                          0   \n",
       "3                                  0                          0   \n",
       "4                                  0                          0   \n",
       "...                              ...                        ...   \n",
       "1465                               0                          0   \n",
       "1466                               0                          0   \n",
       "1467                               1                          0   \n",
       "1468                               0                          0   \n",
       "1469                               0                          0   \n",
       "\n",
       "      JobRole_Research Scientist  JobRole_Sales Executive  \\\n",
       "0                              0                        1   \n",
       "1                              1                        0   \n",
       "2                              0                        0   \n",
       "3                              1                        0   \n",
       "4                              0                        0   \n",
       "...                          ...                      ...   \n",
       "1465                           0                        0   \n",
       "1466                           0                        0   \n",
       "1467                           0                        0   \n",
       "1468                           0                        1   \n",
       "1469                           0                        0   \n",
       "\n",
       "      JobRole_Sales Representative  \n",
       "0                                0  \n",
       "1                                0  \n",
       "2                                0  \n",
       "3                                0  \n",
       "4                                0  \n",
       "...                            ...  \n",
       "1465                             0  \n",
       "1466                             0  \n",
       "1467                             0  \n",
       "1468                             0  \n",
       "1469                             0  \n",
       "\n",
       "[1470 rows x 21 columns]"
      ]
     },
     "execution_count": 26,
     "metadata": {},
     "output_type": "execute_result"
    }
   ],
   "source": [
    "# Create dummy variables using onehot encoding\n",
    "dummy_df = pd.get_dummies(df[categorical_variables], drop_first=True)\n",
    "dummy_df"
   ]
  },
  {
   "cell_type": "code",
   "execution_count": 27,
   "metadata": {},
   "outputs": [],
   "source": [
    "# Drops categorical variables from the df\n",
    "df = df.drop(categorical_variables, axis = 1) \n",
    "\n",
    "# Adds the newly created dummy variables instead\n",
    "df = pd.concat([df, dummy_df], axis = 1) "
   ]
  },
  {
   "cell_type": "code",
   "execution_count": 28,
   "metadata": {},
   "outputs": [
    {
     "data": {
      "text/html": [
       "<div>\n",
       "<style scoped>\n",
       "    .dataframe tbody tr th:only-of-type {\n",
       "        vertical-align: middle;\n",
       "    }\n",
       "\n",
       "    .dataframe tbody tr th {\n",
       "        vertical-align: top;\n",
       "    }\n",
       "\n",
       "    .dataframe thead th {\n",
       "        text-align: right;\n",
       "    }\n",
       "</style>\n",
       "<table border=\"1\" class=\"dataframe\">\n",
       "  <thead>\n",
       "    <tr style=\"text-align: right;\">\n",
       "      <th></th>\n",
       "      <th>Age</th>\n",
       "      <th>Attrition</th>\n",
       "      <th>DailyRate</th>\n",
       "      <th>DistanceFromHome</th>\n",
       "      <th>Education</th>\n",
       "      <th>EmployeeCount</th>\n",
       "      <th>EmployeeNumber</th>\n",
       "      <th>EnvironmentSatisfaction</th>\n",
       "      <th>HourlyRate</th>\n",
       "      <th>JobInvolvement</th>\n",
       "      <th>...</th>\n",
       "      <th>Department_Research &amp; Development</th>\n",
       "      <th>Department_Sales</th>\n",
       "      <th>JobRole_Human Resources</th>\n",
       "      <th>JobRole_Laboratory Technician</th>\n",
       "      <th>JobRole_Manager</th>\n",
       "      <th>JobRole_Manufacturing Director</th>\n",
       "      <th>JobRole_Research Director</th>\n",
       "      <th>JobRole_Research Scientist</th>\n",
       "      <th>JobRole_Sales Executive</th>\n",
       "      <th>JobRole_Sales Representative</th>\n",
       "    </tr>\n",
       "  </thead>\n",
       "  <tbody>\n",
       "    <tr>\n",
       "      <th>0</th>\n",
       "      <td>0.446350</td>\n",
       "      <td>Yes</td>\n",
       "      <td>0.742527</td>\n",
       "      <td>-1.010909</td>\n",
       "      <td>-0.891688</td>\n",
       "      <td>1</td>\n",
       "      <td>-1.701283</td>\n",
       "      <td>-0.660531</td>\n",
       "      <td>1.383138</td>\n",
       "      <td>0.379672</td>\n",
       "      <td>...</td>\n",
       "      <td>0</td>\n",
       "      <td>1</td>\n",
       "      <td>0</td>\n",
       "      <td>0</td>\n",
       "      <td>0</td>\n",
       "      <td>0</td>\n",
       "      <td>0</td>\n",
       "      <td>0</td>\n",
       "      <td>1</td>\n",
       "      <td>0</td>\n",
       "    </tr>\n",
       "    <tr>\n",
       "      <th>1</th>\n",
       "      <td>1.322365</td>\n",
       "      <td>No</td>\n",
       "      <td>-1.297775</td>\n",
       "      <td>-0.147150</td>\n",
       "      <td>-1.868426</td>\n",
       "      <td>1</td>\n",
       "      <td>-1.699621</td>\n",
       "      <td>0.254625</td>\n",
       "      <td>-0.240677</td>\n",
       "      <td>-1.026167</td>\n",
       "      <td>...</td>\n",
       "      <td>1</td>\n",
       "      <td>0</td>\n",
       "      <td>0</td>\n",
       "      <td>0</td>\n",
       "      <td>0</td>\n",
       "      <td>0</td>\n",
       "      <td>0</td>\n",
       "      <td>1</td>\n",
       "      <td>0</td>\n",
       "      <td>0</td>\n",
       "    </tr>\n",
       "    <tr>\n",
       "      <th>2</th>\n",
       "      <td>0.008343</td>\n",
       "      <td>Yes</td>\n",
       "      <td>1.414363</td>\n",
       "      <td>-0.887515</td>\n",
       "      <td>-0.891688</td>\n",
       "      <td>1</td>\n",
       "      <td>-1.696298</td>\n",
       "      <td>1.169781</td>\n",
       "      <td>1.284725</td>\n",
       "      <td>-1.026167</td>\n",
       "      <td>...</td>\n",
       "      <td>1</td>\n",
       "      <td>0</td>\n",
       "      <td>0</td>\n",
       "      <td>1</td>\n",
       "      <td>0</td>\n",
       "      <td>0</td>\n",
       "      <td>0</td>\n",
       "      <td>0</td>\n",
       "      <td>0</td>\n",
       "      <td>0</td>\n",
       "    </tr>\n",
       "    <tr>\n",
       "      <th>3</th>\n",
       "      <td>-0.429664</td>\n",
       "      <td>No</td>\n",
       "      <td>1.461466</td>\n",
       "      <td>-0.764121</td>\n",
       "      <td>1.061787</td>\n",
       "      <td>1</td>\n",
       "      <td>-1.694636</td>\n",
       "      <td>1.169781</td>\n",
       "      <td>-0.486709</td>\n",
       "      <td>0.379672</td>\n",
       "      <td>...</td>\n",
       "      <td>1</td>\n",
       "      <td>0</td>\n",
       "      <td>0</td>\n",
       "      <td>0</td>\n",
       "      <td>0</td>\n",
       "      <td>0</td>\n",
       "      <td>0</td>\n",
       "      <td>1</td>\n",
       "      <td>0</td>\n",
       "      <td>0</td>\n",
       "    </tr>\n",
       "    <tr>\n",
       "      <th>4</th>\n",
       "      <td>-1.086676</td>\n",
       "      <td>No</td>\n",
       "      <td>-0.524295</td>\n",
       "      <td>-0.887515</td>\n",
       "      <td>-1.868426</td>\n",
       "      <td>1</td>\n",
       "      <td>-1.691313</td>\n",
       "      <td>-1.575686</td>\n",
       "      <td>-1.274014</td>\n",
       "      <td>0.379672</td>\n",
       "      <td>...</td>\n",
       "      <td>1</td>\n",
       "      <td>0</td>\n",
       "      <td>0</td>\n",
       "      <td>1</td>\n",
       "      <td>0</td>\n",
       "      <td>0</td>\n",
       "      <td>0</td>\n",
       "      <td>0</td>\n",
       "      <td>0</td>\n",
       "      <td>0</td>\n",
       "    </tr>\n",
       "  </tbody>\n",
       "</table>\n",
       "<p>5 rows × 48 columns</p>\n",
       "</div>"
      ],
      "text/plain": [
       "        Age Attrition  DailyRate  DistanceFromHome  Education  EmployeeCount  \\\n",
       "0  0.446350       Yes   0.742527         -1.010909  -0.891688              1   \n",
       "1  1.322365        No  -1.297775         -0.147150  -1.868426              1   \n",
       "2  0.008343       Yes   1.414363         -0.887515  -0.891688              1   \n",
       "3 -0.429664        No   1.461466         -0.764121   1.061787              1   \n",
       "4 -1.086676        No  -0.524295         -0.887515  -1.868426              1   \n",
       "\n",
       "   EmployeeNumber  EnvironmentSatisfaction  HourlyRate  JobInvolvement  ...  \\\n",
       "0       -1.701283                -0.660531    1.383138        0.379672  ...   \n",
       "1       -1.699621                 0.254625   -0.240677       -1.026167  ...   \n",
       "2       -1.696298                 1.169781    1.284725       -1.026167  ...   \n",
       "3       -1.694636                 1.169781   -0.486709        0.379672  ...   \n",
       "4       -1.691313                -1.575686   -1.274014        0.379672  ...   \n",
       "\n",
       "   Department_Research & Development  Department_Sales  \\\n",
       "0                                  0                 1   \n",
       "1                                  1                 0   \n",
       "2                                  1                 0   \n",
       "3                                  1                 0   \n",
       "4                                  1                 0   \n",
       "\n",
       "   JobRole_Human Resources  JobRole_Laboratory Technician  JobRole_Manager  \\\n",
       "0                        0                              0                0   \n",
       "1                        0                              0                0   \n",
       "2                        0                              1                0   \n",
       "3                        0                              0                0   \n",
       "4                        0                              1                0   \n",
       "\n",
       "   JobRole_Manufacturing Director  JobRole_Research Director  \\\n",
       "0                               0                          0   \n",
       "1                               0                          0   \n",
       "2                               0                          0   \n",
       "3                               0                          0   \n",
       "4                               0                          0   \n",
       "\n",
       "   JobRole_Research Scientist  JobRole_Sales Executive  \\\n",
       "0                           0                        1   \n",
       "1                           1                        0   \n",
       "2                           0                        0   \n",
       "3                           1                        0   \n",
       "4                           0                        0   \n",
       "\n",
       "   JobRole_Sales Representative  \n",
       "0                             0  \n",
       "1                             0  \n",
       "2                             0  \n",
       "3                             0  \n",
       "4                             0  \n",
       "\n",
       "[5 rows x 48 columns]"
      ]
     },
     "execution_count": 28,
     "metadata": {},
     "output_type": "execute_result"
    }
   ],
   "source": [
    "df.head()"
   ]
  },
  {
   "cell_type": "markdown",
   "metadata": {},
   "source": [
    "## Do not alter the below cell. It is a test case for Question 7"
   ]
  },
  {
   "cell_type": "code",
   "execution_count": 29,
   "metadata": {},
   "outputs": [
    {
     "data": {
      "text/plain": [
       "{'question 1': 'pass',\n",
       " 'question 2': 'pass',\n",
       " 'question 3': 'pass',\n",
       " 'question 4': 'pass',\n",
       " 'question 5': 'pass',\n",
       " 'question 6': 'pass',\n",
       " 'question 7': 'pass'}"
      ]
     },
     "execution_count": 29,
     "metadata": {},
     "output_type": "execute_result"
    }
   ],
   "source": [
    "try:\n",
    "    if ((df['JobRole_Laboratory Technician'].mean() == 0.1761904761904762) and \n",
    "        (df['EducationField_Marketing'].mean() == 0.10816326530612246)):\n",
    "        score['question 7'] = 'pass'\n",
    "    else: \n",
    "        score['question 7'] = 'fail'\n",
    "except:\n",
    "    score['question 7'] = 'fail'\n",
    "score"
   ]
  },
  {
   "cell_type": "markdown",
   "metadata": {},
   "source": [
    "###################################################################################################################"
   ]
  },
  {
   "cell_type": "markdown",
   "metadata": {},
   "source": [
    "# Question 8\n",
    "1. Encode the categorical output variable: Attrition. Yes should be coded as 1, and No should be coded as 0. The new encoded target variable should be named as Attrition. Do not forget to drop the categorical Attirion Variable. Basically, you will convert the categorical Attrition variable into numerical attrition variable such that Yes will be mapped to 1, and No will be mapped to zero. \n",
    "\n",
    "    * __Hints__:\n",
    "        * Check Module 3 and Module 5 videos.\n"
   ]
  },
  {
   "cell_type": "code",
   "execution_count": 30,
   "metadata": {},
   "outputs": [],
   "source": [
    "# Create dummy variables using onehot encoding\n",
    "\n",
    "dummy_att = pd.get_dummies(df, columns=['Attrition'], prefix=None, prefix_sep='.', drop_first=True)"
   ]
  },
  {
   "cell_type": "code",
   "execution_count": 31,
   "metadata": {},
   "outputs": [],
   "source": [
    "df = df.drop(['Attrition'], axis = 1)\n",
    "df = pd.concat([df, dummy_att], axis = 1)"
   ]
  },
  {
   "cell_type": "code",
   "execution_count": 32,
   "metadata": {},
   "outputs": [],
   "source": [
    "df.rename(columns = {'Attrition.Yes':'Attrition'}, inplace = True)"
   ]
  },
  {
   "cell_type": "code",
   "execution_count": 33,
   "metadata": {},
   "outputs": [
    {
     "data": {
      "text/html": [
       "<div>\n",
       "<style scoped>\n",
       "    .dataframe tbody tr th:only-of-type {\n",
       "        vertical-align: middle;\n",
       "    }\n",
       "\n",
       "    .dataframe tbody tr th {\n",
       "        vertical-align: top;\n",
       "    }\n",
       "\n",
       "    .dataframe thead th {\n",
       "        text-align: right;\n",
       "    }\n",
       "</style>\n",
       "<table border=\"1\" class=\"dataframe\">\n",
       "  <thead>\n",
       "    <tr style=\"text-align: right;\">\n",
       "      <th></th>\n",
       "      <th>Age</th>\n",
       "      <th>DailyRate</th>\n",
       "      <th>DistanceFromHome</th>\n",
       "      <th>Education</th>\n",
       "      <th>EmployeeCount</th>\n",
       "      <th>EmployeeNumber</th>\n",
       "      <th>EnvironmentSatisfaction</th>\n",
       "      <th>HourlyRate</th>\n",
       "      <th>JobInvolvement</th>\n",
       "      <th>JobLevel</th>\n",
       "      <th>...</th>\n",
       "      <th>Department_Sales</th>\n",
       "      <th>JobRole_Human Resources</th>\n",
       "      <th>JobRole_Laboratory Technician</th>\n",
       "      <th>JobRole_Manager</th>\n",
       "      <th>JobRole_Manufacturing Director</th>\n",
       "      <th>JobRole_Research Director</th>\n",
       "      <th>JobRole_Research Scientist</th>\n",
       "      <th>JobRole_Sales Executive</th>\n",
       "      <th>JobRole_Sales Representative</th>\n",
       "      <th>Attrition</th>\n",
       "    </tr>\n",
       "  </thead>\n",
       "  <tbody>\n",
       "    <tr>\n",
       "      <th>0</th>\n",
       "      <td>0.446350</td>\n",
       "      <td>0.742527</td>\n",
       "      <td>-1.010909</td>\n",
       "      <td>-0.891688</td>\n",
       "      <td>1</td>\n",
       "      <td>-1.701283</td>\n",
       "      <td>-0.660531</td>\n",
       "      <td>1.383138</td>\n",
       "      <td>0.379672</td>\n",
       "      <td>-0.057788</td>\n",
       "      <td>...</td>\n",
       "      <td>1</td>\n",
       "      <td>0</td>\n",
       "      <td>0</td>\n",
       "      <td>0</td>\n",
       "      <td>0</td>\n",
       "      <td>0</td>\n",
       "      <td>0</td>\n",
       "      <td>1</td>\n",
       "      <td>0</td>\n",
       "      <td>1</td>\n",
       "    </tr>\n",
       "    <tr>\n",
       "      <th>1</th>\n",
       "      <td>1.322365</td>\n",
       "      <td>-1.297775</td>\n",
       "      <td>-0.147150</td>\n",
       "      <td>-1.868426</td>\n",
       "      <td>1</td>\n",
       "      <td>-1.699621</td>\n",
       "      <td>0.254625</td>\n",
       "      <td>-0.240677</td>\n",
       "      <td>-1.026167</td>\n",
       "      <td>-0.057788</td>\n",
       "      <td>...</td>\n",
       "      <td>0</td>\n",
       "      <td>0</td>\n",
       "      <td>0</td>\n",
       "      <td>0</td>\n",
       "      <td>0</td>\n",
       "      <td>0</td>\n",
       "      <td>1</td>\n",
       "      <td>0</td>\n",
       "      <td>0</td>\n",
       "      <td>0</td>\n",
       "    </tr>\n",
       "    <tr>\n",
       "      <th>2</th>\n",
       "      <td>0.008343</td>\n",
       "      <td>1.414363</td>\n",
       "      <td>-0.887515</td>\n",
       "      <td>-0.891688</td>\n",
       "      <td>1</td>\n",
       "      <td>-1.696298</td>\n",
       "      <td>1.169781</td>\n",
       "      <td>1.284725</td>\n",
       "      <td>-1.026167</td>\n",
       "      <td>-0.961486</td>\n",
       "      <td>...</td>\n",
       "      <td>0</td>\n",
       "      <td>0</td>\n",
       "      <td>1</td>\n",
       "      <td>0</td>\n",
       "      <td>0</td>\n",
       "      <td>0</td>\n",
       "      <td>0</td>\n",
       "      <td>0</td>\n",
       "      <td>0</td>\n",
       "      <td>1</td>\n",
       "    </tr>\n",
       "    <tr>\n",
       "      <th>3</th>\n",
       "      <td>-0.429664</td>\n",
       "      <td>1.461466</td>\n",
       "      <td>-0.764121</td>\n",
       "      <td>1.061787</td>\n",
       "      <td>1</td>\n",
       "      <td>-1.694636</td>\n",
       "      <td>1.169781</td>\n",
       "      <td>-0.486709</td>\n",
       "      <td>0.379672</td>\n",
       "      <td>-0.961486</td>\n",
       "      <td>...</td>\n",
       "      <td>0</td>\n",
       "      <td>0</td>\n",
       "      <td>0</td>\n",
       "      <td>0</td>\n",
       "      <td>0</td>\n",
       "      <td>0</td>\n",
       "      <td>1</td>\n",
       "      <td>0</td>\n",
       "      <td>0</td>\n",
       "      <td>0</td>\n",
       "    </tr>\n",
       "    <tr>\n",
       "      <th>4</th>\n",
       "      <td>-1.086676</td>\n",
       "      <td>-0.524295</td>\n",
       "      <td>-0.887515</td>\n",
       "      <td>-1.868426</td>\n",
       "      <td>1</td>\n",
       "      <td>-1.691313</td>\n",
       "      <td>-1.575686</td>\n",
       "      <td>-1.274014</td>\n",
       "      <td>0.379672</td>\n",
       "      <td>-0.961486</td>\n",
       "      <td>...</td>\n",
       "      <td>0</td>\n",
       "      <td>0</td>\n",
       "      <td>1</td>\n",
       "      <td>0</td>\n",
       "      <td>0</td>\n",
       "      <td>0</td>\n",
       "      <td>0</td>\n",
       "      <td>0</td>\n",
       "      <td>0</td>\n",
       "      <td>0</td>\n",
       "    </tr>\n",
       "  </tbody>\n",
       "</table>\n",
       "<p>5 rows × 95 columns</p>\n",
       "</div>"
      ],
      "text/plain": [
       "        Age  DailyRate  DistanceFromHome  Education  EmployeeCount  \\\n",
       "0  0.446350   0.742527         -1.010909  -0.891688              1   \n",
       "1  1.322365  -1.297775         -0.147150  -1.868426              1   \n",
       "2  0.008343   1.414363         -0.887515  -0.891688              1   \n",
       "3 -0.429664   1.461466         -0.764121   1.061787              1   \n",
       "4 -1.086676  -0.524295         -0.887515  -1.868426              1   \n",
       "\n",
       "   EmployeeNumber  EnvironmentSatisfaction  HourlyRate  JobInvolvement  \\\n",
       "0       -1.701283                -0.660531    1.383138        0.379672   \n",
       "1       -1.699621                 0.254625   -0.240677       -1.026167   \n",
       "2       -1.696298                 1.169781    1.284725       -1.026167   \n",
       "3       -1.694636                 1.169781   -0.486709        0.379672   \n",
       "4       -1.691313                -1.575686   -1.274014        0.379672   \n",
       "\n",
       "   JobLevel  ...  Department_Sales  JobRole_Human Resources  \\\n",
       "0 -0.057788  ...                 1                        0   \n",
       "1 -0.057788  ...                 0                        0   \n",
       "2 -0.961486  ...                 0                        0   \n",
       "3 -0.961486  ...                 0                        0   \n",
       "4 -0.961486  ...                 0                        0   \n",
       "\n",
       "   JobRole_Laboratory Technician  JobRole_Manager  \\\n",
       "0                              0                0   \n",
       "1                              0                0   \n",
       "2                              1                0   \n",
       "3                              0                0   \n",
       "4                              1                0   \n",
       "\n",
       "   JobRole_Manufacturing Director  JobRole_Research Director  \\\n",
       "0                               0                          0   \n",
       "1                               0                          0   \n",
       "2                               0                          0   \n",
       "3                               0                          0   \n",
       "4                               0                          0   \n",
       "\n",
       "   JobRole_Research Scientist  JobRole_Sales Executive  \\\n",
       "0                           0                        1   \n",
       "1                           1                        0   \n",
       "2                           0                        0   \n",
       "3                           1                        0   \n",
       "4                           0                        0   \n",
       "\n",
       "   JobRole_Sales Representative  Attrition  \n",
       "0                             0          1  \n",
       "1                             0          0  \n",
       "2                             0          1  \n",
       "3                             0          0  \n",
       "4                             0          0  \n",
       "\n",
       "[5 rows x 95 columns]"
      ]
     },
     "execution_count": 33,
     "metadata": {},
     "output_type": "execute_result"
    }
   ],
   "source": [
    "df.head()"
   ]
  },
  {
   "cell_type": "markdown",
   "metadata": {},
   "source": [
    "## Do not alter the below cell. It is a test case for Question 8"
   ]
  },
  {
   "cell_type": "code",
   "execution_count": 34,
   "metadata": {},
   "outputs": [
    {
     "data": {
      "text/plain": [
       "{'question 1': 'pass',\n",
       " 'question 2': 'pass',\n",
       " 'question 3': 'pass',\n",
       " 'question 4': 'pass',\n",
       " 'question 5': 'pass',\n",
       " 'question 6': 'pass',\n",
       " 'question 7': 'pass',\n",
       " 'question 8': 'pass'}"
      ]
     },
     "execution_count": 34,
     "metadata": {},
     "output_type": "execute_result"
    }
   ],
   "source": [
    "try:\n",
    "    if (df['Attrition'].mean() == 0.16122448979591836):\n",
    "        score['question 8'] = 'pass'\n",
    "    else: \n",
    "        score['question 8'] = 'fail'\n",
    "except:\n",
    "    score['question 8'] = 'fail'\n",
    "score"
   ]
  },
  {
   "cell_type": "markdown",
   "metadata": {},
   "source": [
    "###################################################################################################################"
   ]
  },
  {
   "cell_type": "markdown",
   "metadata": {},
   "source": [
    "# Question 9"
   ]
  },
  {
   "cell_type": "markdown",
   "metadata": {},
   "source": [
    "1. Balance the dataset\n",
    "\n",
    "\n",
    "2. Your code should return the input and output variables __seperately__. The input variables will be saved as a dataframe named X. The output variable will be saved as a dataframe named y. \n",
    "\n",
    "    * __Hints:__\n",
    "        * Imbalanced data refers to a situation where the number of observations is not the same for all the classes in a dataset. For example, the number of churned employees is 4000, while the number of unchurned employees is 40000. This means this dataset is imbalanced. \n",
    "        * You need to access the target variable __Attrition__ and increase the number of ones (i.e., Yeses) so that both the number of zeros (i.e., Noes) and the number of ones (i.e., Yeses) will be equal. \n",
    "        * Check __M5g: Encoding Categorical Variables.__ balancing dataset is discussed in this video. "
   ]
  },
  {
   "cell_type": "code",
   "execution_count": 35,
   "metadata": {},
   "outputs": [],
   "source": [
    "from imblearn.over_sampling import SMOTE\n",
    "\n",
    "os = SMOTE(random_state=0) \n",
    "\n",
    "input_var = list(set(df.columns) - set(['Attrition'])) # sets the input var"
   ]
  },
  {
   "cell_type": "code",
   "execution_count": 36,
   "metadata": {},
   "outputs": [],
   "source": [
    "input_df = df[input_var]\n",
    "input_df=input_df.T.drop_duplicates().T"
   ]
  },
  {
   "cell_type": "code",
   "execution_count": 37,
   "metadata": {},
   "outputs": [],
   "source": [
    "X, y = os.fit_resample(input_df, df['Attrition']) # oversamples the data\n",
    "X = pd.DataFrame(X, columns = input_var) # makes the X array as a dataframe\n",
    "y = pd.DataFrame(y, columns = ['Attrition']) # makes the Y array as a dataframe\n",
    "\n",
    "df = pd.concat([X, y], axis=1) # Combine X and Y"
   ]
  },
  {
   "cell_type": "code",
   "execution_count": 38,
   "metadata": {},
   "outputs": [
    {
     "data": {
      "text/plain": [
       "1    1233\n",
       "0    1233\n",
       "Name: Attrition, dtype: int64"
      ]
     },
     "execution_count": 38,
     "metadata": {},
     "output_type": "execute_result"
    }
   ],
   "source": [
    "df['Attrition'].value_counts()"
   ]
  },
  {
   "cell_type": "markdown",
   "metadata": {},
   "source": [
    "## Do not alter the below cell. It is a test case for Question 9"
   ]
  },
  {
   "cell_type": "code",
   "execution_count": 39,
   "metadata": {},
   "outputs": [
    {
     "data": {
      "text/plain": [
       "{'question 1': 'pass',\n",
       " 'question 2': 'pass',\n",
       " 'question 3': 'pass',\n",
       " 'question 4': 'pass',\n",
       " 'question 5': 'pass',\n",
       " 'question 6': 'pass',\n",
       " 'question 7': 'pass',\n",
       " 'question 8': 'pass',\n",
       " 'question 9': 'pass'}"
      ]
     },
     "execution_count": 39,
     "metadata": {},
     "output_type": "execute_result"
    }
   ],
   "source": [
    "try:\n",
    "    if ((y.Attrition.value_counts()[0] == 1233) and (y.Attrition.value_counts()[1] == 1233)):\n",
    "        score['question 9'] = 'pass'\n",
    "    else: \n",
    "        score['question 9'] = 'fail'\n",
    "except:\n",
    "    score['question 9'] = 'fail'\n",
    "score"
   ]
  },
  {
   "cell_type": "markdown",
   "metadata": {},
   "source": [
    "###################################################################################################################"
   ]
  },
  {
   "cell_type": "markdown",
   "metadata": {},
   "source": [
    "# Question 10"
   ]
  },
  {
   "cell_type": "markdown",
   "metadata": {},
   "source": [
    "* __Split the dataset into training and testing__ Basically using X and y dataframes, you will create X_train, X_test, y_train, and y_test. \n",
    "    * You need to keep 70% of the dataset for training and 30% for testing.\n",
    "    \n",
    "    * __Hints__:\n",
    "        * You can use the train_test_split function in sklearn library\n",
    "        * Check Module __M6c: Classification__"
   ]
  },
  {
   "cell_type": "code",
   "execution_count": 40,
   "metadata": {},
   "outputs": [],
   "source": [
    "input_var  = set(df.columns) - set(['Attrition'])\n",
    "X = df[input_var]\n",
    "Y = df['Attrition']\n",
    "\n",
    "from sklearn.model_selection import train_test_split\n",
    "\n",
    "X_train, X_test, y_train, y_test = train_test_split(X, Y, test_size = 0.30) # set the dataset for testing"
   ]
  },
  {
   "cell_type": "code",
   "execution_count": 41,
   "metadata": {},
   "outputs": [
    {
     "data": {
      "text/plain": [
       "1726"
      ]
     },
     "execution_count": 41,
     "metadata": {},
     "output_type": "execute_result"
    }
   ],
   "source": [
    "X_train.shape[0]"
   ]
  },
  {
   "cell_type": "markdown",
   "metadata": {},
   "source": [
    "## Do not alter the below cell. It is a test case for Question 6"
   ]
  },
  {
   "cell_type": "code",
   "execution_count": 42,
   "metadata": {},
   "outputs": [
    {
     "data": {
      "text/plain": [
       "{'question 1': 'pass',\n",
       " 'question 2': 'pass',\n",
       " 'question 3': 'pass',\n",
       " 'question 4': 'pass',\n",
       " 'question 5': 'pass',\n",
       " 'question 6': 'pass',\n",
       " 'question 7': 'pass',\n",
       " 'question 8': 'pass',\n",
       " 'question 9': 'pass',\n",
       " 'question 10': 'pass'}"
      ]
     },
     "execution_count": 42,
     "metadata": {},
     "output_type": "execute_result"
    }
   ],
   "source": [
    "try:\n",
    "    if ((X_train.shape[0]<1750) and (X_train.shape[0]>1700)):\n",
    "        score['question 10'] = 'pass'\n",
    "    else: \n",
    "        score['question 10'] = 'fail'\n",
    "except:\n",
    "    score['question 10'] = 'fail'\n",
    "score"
   ]
  },
  {
   "cell_type": "markdown",
   "metadata": {},
   "source": [
    "###################################################################################################################"
   ]
  },
  {
   "cell_type": "markdown",
   "metadata": {},
   "source": [
    "# Question 11"
   ]
  },
  {
   "cell_type": "markdown",
   "metadata": {},
   "source": [
    "1. Train a knn model where k is 3 using the training dataset.\n",
    "\n",
    "\n",
    "2. Make predictions using the test dataset\n",
    "\n",
    "\n",
    "3. Compute accuracy and save as accuracy\n",
    "\n",
    "    * __Hints:__\n",
    "        * You need to use the KNeighborsClassifier function. Instantiate a knn object and pass the number of neighbors to the function. Train the model using the X_train and y_train. Then make predictions using X_test. Then compute the accuracy using the predicted values and y_test.\n",
    "        * Check __Module 6d: Model Performance__ and __Module 5c: Classification_"
   ]
  },
  {
   "cell_type": "code",
   "execution_count": 43,
   "metadata": {},
   "outputs": [],
   "source": [
    "from sklearn.model_selection import train_test_split\n",
    "X_train, X_test, Y_train, Y_test = train_test_split(X, Y, test_size=0.30, random_state=42)"
   ]
  },
  {
   "cell_type": "code",
   "execution_count": 44,
   "metadata": {},
   "outputs": [
    {
     "data": {
      "text/html": [
       "<style>#sk-container-id-1 {color: black;background-color: white;}#sk-container-id-1 pre{padding: 0;}#sk-container-id-1 div.sk-toggleable {background-color: white;}#sk-container-id-1 label.sk-toggleable__label {cursor: pointer;display: block;width: 100%;margin-bottom: 0;padding: 0.3em;box-sizing: border-box;text-align: center;}#sk-container-id-1 label.sk-toggleable__label-arrow:before {content: \"▸\";float: left;margin-right: 0.25em;color: #696969;}#sk-container-id-1 label.sk-toggleable__label-arrow:hover:before {color: black;}#sk-container-id-1 div.sk-estimator:hover label.sk-toggleable__label-arrow:before {color: black;}#sk-container-id-1 div.sk-toggleable__content {max-height: 0;max-width: 0;overflow: hidden;text-align: left;background-color: #f0f8ff;}#sk-container-id-1 div.sk-toggleable__content pre {margin: 0.2em;color: black;border-radius: 0.25em;background-color: #f0f8ff;}#sk-container-id-1 input.sk-toggleable__control:checked~div.sk-toggleable__content {max-height: 200px;max-width: 100%;overflow: auto;}#sk-container-id-1 input.sk-toggleable__control:checked~label.sk-toggleable__label-arrow:before {content: \"▾\";}#sk-container-id-1 div.sk-estimator input.sk-toggleable__control:checked~label.sk-toggleable__label {background-color: #d4ebff;}#sk-container-id-1 div.sk-label input.sk-toggleable__control:checked~label.sk-toggleable__label {background-color: #d4ebff;}#sk-container-id-1 input.sk-hidden--visually {border: 0;clip: rect(1px 1px 1px 1px);clip: rect(1px, 1px, 1px, 1px);height: 1px;margin: -1px;overflow: hidden;padding: 0;position: absolute;width: 1px;}#sk-container-id-1 div.sk-estimator {font-family: monospace;background-color: #f0f8ff;border: 1px dotted black;border-radius: 0.25em;box-sizing: border-box;margin-bottom: 0.5em;}#sk-container-id-1 div.sk-estimator:hover {background-color: #d4ebff;}#sk-container-id-1 div.sk-parallel-item::after {content: \"\";width: 100%;border-bottom: 1px solid gray;flex-grow: 1;}#sk-container-id-1 div.sk-label:hover label.sk-toggleable__label {background-color: #d4ebff;}#sk-container-id-1 div.sk-serial::before {content: \"\";position: absolute;border-left: 1px solid gray;box-sizing: border-box;top: 0;bottom: 0;left: 50%;z-index: 0;}#sk-container-id-1 div.sk-serial {display: flex;flex-direction: column;align-items: center;background-color: white;padding-right: 0.2em;padding-left: 0.2em;position: relative;}#sk-container-id-1 div.sk-item {position: relative;z-index: 1;}#sk-container-id-1 div.sk-parallel {display: flex;align-items: stretch;justify-content: center;background-color: white;position: relative;}#sk-container-id-1 div.sk-item::before, #sk-container-id-1 div.sk-parallel-item::before {content: \"\";position: absolute;border-left: 1px solid gray;box-sizing: border-box;top: 0;bottom: 0;left: 50%;z-index: -1;}#sk-container-id-1 div.sk-parallel-item {display: flex;flex-direction: column;z-index: 1;position: relative;background-color: white;}#sk-container-id-1 div.sk-parallel-item:first-child::after {align-self: flex-end;width: 50%;}#sk-container-id-1 div.sk-parallel-item:last-child::after {align-self: flex-start;width: 50%;}#sk-container-id-1 div.sk-parallel-item:only-child::after {width: 0;}#sk-container-id-1 div.sk-dashed-wrapped {border: 1px dashed gray;margin: 0 0.4em 0.5em 0.4em;box-sizing: border-box;padding-bottom: 0.4em;background-color: white;}#sk-container-id-1 div.sk-label label {font-family: monospace;font-weight: bold;display: inline-block;line-height: 1.2em;}#sk-container-id-1 div.sk-label-container {text-align: center;}#sk-container-id-1 div.sk-container {/* jupyter's `normalize.less` sets `[hidden] { display: none; }` but bootstrap.min.css set `[hidden] { display: none !important; }` so we also need the `!important` here to be able to override the default hidden behavior on the sphinx rendered scikit-learn.org. See: https://github.com/scikit-learn/scikit-learn/issues/21755 */display: inline-block !important;position: relative;}#sk-container-id-1 div.sk-text-repr-fallback {display: none;}</style><div id=\"sk-container-id-1\" class=\"sk-top-container\"><div class=\"sk-text-repr-fallback\"><pre>KNeighborsClassifier(n_neighbors=8)</pre><b>In a Jupyter environment, please rerun this cell to show the HTML representation or trust the notebook. <br />On GitHub, the HTML representation is unable to render, please try loading this page with nbviewer.org.</b></div><div class=\"sk-container\" hidden><div class=\"sk-item\"><div class=\"sk-estimator sk-toggleable\"><input class=\"sk-toggleable__control sk-hidden--visually\" id=\"sk-estimator-id-1\" type=\"checkbox\" checked><label for=\"sk-estimator-id-1\" class=\"sk-toggleable__label sk-toggleable__label-arrow\">KNeighborsClassifier</label><div class=\"sk-toggleable__content\"><pre>KNeighborsClassifier(n_neighbors=8)</pre></div></div></div></div></div>"
      ],
      "text/plain": [
       "KNeighborsClassifier(n_neighbors=8)"
      ]
     },
     "execution_count": 44,
     "metadata": {},
     "output_type": "execute_result"
    }
   ],
   "source": [
    "# K-NN\n",
    "\n",
    "from sklearn.neighbors import KNeighborsClassifier\n",
    "\n",
    "knn = KNeighborsClassifier(n_neighbors = 8)\n",
    "knn.fit(X_train, Y_train)"
   ]
  },
  {
   "cell_type": "code",
   "execution_count": 45,
   "metadata": {},
   "outputs": [],
   "source": [
    "pred_Y_knn = knn.predict(X_test) # predicts the Y given the fitted model knn"
   ]
  },
  {
   "cell_type": "code",
   "execution_count": 46,
   "metadata": {},
   "outputs": [],
   "source": [
    "from sklearn.metrics import confusion_matrix\n",
    "cm = confusion_matrix(Y_test.values, knn.predict(X_test))\n",
    "total = sum(sum(cm))"
   ]
  },
  {
   "cell_type": "code",
   "execution_count": 47,
   "metadata": {},
   "outputs": [],
   "source": [
    "accuracy = (cm[0,0]+cm[1,1])/total"
   ]
  },
  {
   "cell_type": "markdown",
   "metadata": {},
   "source": [
    "## Do not alter the below cell. It is a test case for Question 11"
   ]
  },
  {
   "cell_type": "code",
   "execution_count": 48,
   "metadata": {},
   "outputs": [
    {
     "data": {
      "text/plain": [
       "{'question 1': 'pass',\n",
       " 'question 2': 'pass',\n",
       " 'question 3': 'pass',\n",
       " 'question 4': 'pass',\n",
       " 'question 5': 'pass',\n",
       " 'question 6': 'pass',\n",
       " 'question 7': 'pass',\n",
       " 'question 8': 'pass',\n",
       " 'question 9': 'pass',\n",
       " 'question 10': 'pass',\n",
       " 'question 11': 'pass'}"
      ]
     },
     "execution_count": 48,
     "metadata": {},
     "output_type": "execute_result"
    }
   ],
   "source": [
    "try:\n",
    "    if (accuracy > 0.70):\n",
    "        score['question 11'] = 'pass'\n",
    "    else: \n",
    "        score['question 11'] = 'fail'\n",
    "except:\n",
    "    score['question 11'] = 'fail'\n",
    "score"
   ]
  },
  {
   "cell_type": "markdown",
   "metadata": {},
   "source": [
    "###################################################################################################################"
   ]
  },
  {
   "cell_type": "markdown",
   "metadata": {},
   "source": [
    "# Question 12"
   ]
  },
  {
   "cell_type": "markdown",
   "metadata": {},
   "source": [
    "1. Train a Random Forests model where the number of estimators is 100  using the training dataset.\n",
    "\n",
    "\n",
    "2. Make predictions using the test dataset\n",
    "\n",
    "\n",
    "3. Compute accuracy and save as accuracy\n",
    "\n",
    "    * __Hints:__\n",
    "        * You need to use the RandomForestClassifier function. Instantiate a RandomForestClassifier object and pass the number of estimators to the function. Train the model using the X_train and y_train. Then make predictions using X_test. Then compute the accuracy using the predicted values and y_test.\n",
    "        * Check __Module 6d: Model Performance__ and __Module 5c: Classification_"
   ]
  },
  {
   "cell_type": "code",
   "execution_count": 49,
   "metadata": {},
   "outputs": [
    {
     "data": {
      "text/html": [
       "<style>#sk-container-id-2 {color: black;background-color: white;}#sk-container-id-2 pre{padding: 0;}#sk-container-id-2 div.sk-toggleable {background-color: white;}#sk-container-id-2 label.sk-toggleable__label {cursor: pointer;display: block;width: 100%;margin-bottom: 0;padding: 0.3em;box-sizing: border-box;text-align: center;}#sk-container-id-2 label.sk-toggleable__label-arrow:before {content: \"▸\";float: left;margin-right: 0.25em;color: #696969;}#sk-container-id-2 label.sk-toggleable__label-arrow:hover:before {color: black;}#sk-container-id-2 div.sk-estimator:hover label.sk-toggleable__label-arrow:before {color: black;}#sk-container-id-2 div.sk-toggleable__content {max-height: 0;max-width: 0;overflow: hidden;text-align: left;background-color: #f0f8ff;}#sk-container-id-2 div.sk-toggleable__content pre {margin: 0.2em;color: black;border-radius: 0.25em;background-color: #f0f8ff;}#sk-container-id-2 input.sk-toggleable__control:checked~div.sk-toggleable__content {max-height: 200px;max-width: 100%;overflow: auto;}#sk-container-id-2 input.sk-toggleable__control:checked~label.sk-toggleable__label-arrow:before {content: \"▾\";}#sk-container-id-2 div.sk-estimator input.sk-toggleable__control:checked~label.sk-toggleable__label {background-color: #d4ebff;}#sk-container-id-2 div.sk-label input.sk-toggleable__control:checked~label.sk-toggleable__label {background-color: #d4ebff;}#sk-container-id-2 input.sk-hidden--visually {border: 0;clip: rect(1px 1px 1px 1px);clip: rect(1px, 1px, 1px, 1px);height: 1px;margin: -1px;overflow: hidden;padding: 0;position: absolute;width: 1px;}#sk-container-id-2 div.sk-estimator {font-family: monospace;background-color: #f0f8ff;border: 1px dotted black;border-radius: 0.25em;box-sizing: border-box;margin-bottom: 0.5em;}#sk-container-id-2 div.sk-estimator:hover {background-color: #d4ebff;}#sk-container-id-2 div.sk-parallel-item::after {content: \"\";width: 100%;border-bottom: 1px solid gray;flex-grow: 1;}#sk-container-id-2 div.sk-label:hover label.sk-toggleable__label {background-color: #d4ebff;}#sk-container-id-2 div.sk-serial::before {content: \"\";position: absolute;border-left: 1px solid gray;box-sizing: border-box;top: 0;bottom: 0;left: 50%;z-index: 0;}#sk-container-id-2 div.sk-serial {display: flex;flex-direction: column;align-items: center;background-color: white;padding-right: 0.2em;padding-left: 0.2em;position: relative;}#sk-container-id-2 div.sk-item {position: relative;z-index: 1;}#sk-container-id-2 div.sk-parallel {display: flex;align-items: stretch;justify-content: center;background-color: white;position: relative;}#sk-container-id-2 div.sk-item::before, #sk-container-id-2 div.sk-parallel-item::before {content: \"\";position: absolute;border-left: 1px solid gray;box-sizing: border-box;top: 0;bottom: 0;left: 50%;z-index: -1;}#sk-container-id-2 div.sk-parallel-item {display: flex;flex-direction: column;z-index: 1;position: relative;background-color: white;}#sk-container-id-2 div.sk-parallel-item:first-child::after {align-self: flex-end;width: 50%;}#sk-container-id-2 div.sk-parallel-item:last-child::after {align-self: flex-start;width: 50%;}#sk-container-id-2 div.sk-parallel-item:only-child::after {width: 0;}#sk-container-id-2 div.sk-dashed-wrapped {border: 1px dashed gray;margin: 0 0.4em 0.5em 0.4em;box-sizing: border-box;padding-bottom: 0.4em;background-color: white;}#sk-container-id-2 div.sk-label label {font-family: monospace;font-weight: bold;display: inline-block;line-height: 1.2em;}#sk-container-id-2 div.sk-label-container {text-align: center;}#sk-container-id-2 div.sk-container {/* jupyter's `normalize.less` sets `[hidden] { display: none; }` but bootstrap.min.css set `[hidden] { display: none !important; }` so we also need the `!important` here to be able to override the default hidden behavior on the sphinx rendered scikit-learn.org. See: https://github.com/scikit-learn/scikit-learn/issues/21755 */display: inline-block !important;position: relative;}#sk-container-id-2 div.sk-text-repr-fallback {display: none;}</style><div id=\"sk-container-id-2\" class=\"sk-top-container\"><div class=\"sk-text-repr-fallback\"><pre>RandomForestClassifier(max_depth=5, random_state=0)</pre><b>In a Jupyter environment, please rerun this cell to show the HTML representation or trust the notebook. <br />On GitHub, the HTML representation is unable to render, please try loading this page with nbviewer.org.</b></div><div class=\"sk-container\" hidden><div class=\"sk-item\"><div class=\"sk-estimator sk-toggleable\"><input class=\"sk-toggleable__control sk-hidden--visually\" id=\"sk-estimator-id-2\" type=\"checkbox\" checked><label for=\"sk-estimator-id-2\" class=\"sk-toggleable__label sk-toggleable__label-arrow\">RandomForestClassifier</label><div class=\"sk-toggleable__content\"><pre>RandomForestClassifier(max_depth=5, random_state=0)</pre></div></div></div></div></div>"
      ],
      "text/plain": [
       "RandomForestClassifier(max_depth=5, random_state=0)"
      ]
     },
     "execution_count": 49,
     "metadata": {},
     "output_type": "execute_result"
    }
   ],
   "source": [
    "# Random Forests\n",
    "from sklearn.ensemble import RandomForestClassifier\n",
    "rf = RandomForestClassifier(n_estimators=100, max_depth=5, random_state=0)\n",
    "rf.fit(X_train, Y_train)"
   ]
  },
  {
   "cell_type": "code",
   "execution_count": 50,
   "metadata": {},
   "outputs": [],
   "source": [
    "pred_Y_rf = rf.predict(X_test) # predicts the Y given the fitted model rf"
   ]
  },
  {
   "cell_type": "code",
   "execution_count": 51,
   "metadata": {},
   "outputs": [],
   "source": [
    "cm = confusion_matrix(Y_test.values, rf.predict(X_test))\n",
    "total = sum(sum(cm))"
   ]
  },
  {
   "cell_type": "code",
   "execution_count": 52,
   "metadata": {},
   "outputs": [],
   "source": [
    "accuracy = (cm[0,0]+cm[1,1])/total"
   ]
  },
  {
   "cell_type": "markdown",
   "metadata": {},
   "source": [
    "## Do not alter the below cell. It is a test case for Question 6"
   ]
  },
  {
   "cell_type": "code",
   "execution_count": 53,
   "metadata": {},
   "outputs": [
    {
     "data": {
      "text/plain": [
       "{'question 1': 'pass',\n",
       " 'question 2': 'pass',\n",
       " 'question 3': 'pass',\n",
       " 'question 4': 'pass',\n",
       " 'question 5': 'pass',\n",
       " 'question 6': 'pass',\n",
       " 'question 7': 'pass',\n",
       " 'question 8': 'pass',\n",
       " 'question 9': 'pass',\n",
       " 'question 10': 'pass',\n",
       " 'question 11': 'pass',\n",
       " 'question 12': 'pass'}"
      ]
     },
     "execution_count": 53,
     "metadata": {},
     "output_type": "execute_result"
    }
   ],
   "source": [
    "try:\n",
    "    if (accuracy > 0.80):\n",
    "        score['question 12'] = 'pass'\n",
    "    else: \n",
    "        score['question 12'] = 'fail'\n",
    "except:\n",
    "    score['question 12'] = 'fail'\n",
    "score"
   ]
  },
  {
   "cell_type": "markdown",
   "metadata": {},
   "source": [
    "###################################################################################################################"
   ]
  },
  {
   "cell_type": "markdown",
   "metadata": {},
   "source": [
    "# Your Grade"
   ]
  },
  {
   "cell_type": "code",
   "execution_count": 54,
   "metadata": {},
   "outputs": [
    {
     "name": "stdout",
     "output_type": "stream",
     "text": [
      "Your overall score is:  100\n"
     ]
    }
   ],
   "source": [
    "print('Your overall score is: ', round(list(score.values()).count('pass')*8.3333))"
   ]
  }
 ],
 "metadata": {
  "kernelspec": {
   "display_name": "Python 3 (ipykernel)",
   "language": "python",
   "name": "python3"
  },
  "language_info": {
   "codemirror_mode": {
    "name": "ipython",
    "version": 3
   },
   "file_extension": ".py",
   "mimetype": "text/x-python",
   "name": "python",
   "nbconvert_exporter": "python",
   "pygments_lexer": "ipython3",
   "version": "3.9.7"
  },
  "toc": {
   "nav_menu": {},
   "number_sections": true,
   "sideBar": true,
   "skip_h1_title": false,
   "toc_cell": false,
   "toc_position": {},
   "toc_section_display": "block",
   "toc_window_display": false
  },
  "varInspector": {
   "cols": {
    "lenName": 16,
    "lenType": 16,
    "lenVar": 40
   },
   "kernels_config": {
    "python": {
     "delete_cmd_postfix": "",
     "delete_cmd_prefix": "del ",
     "library": "var_list.py",
     "varRefreshCmd": "print(var_dic_list())"
    },
    "r": {
     "delete_cmd_postfix": ") ",
     "delete_cmd_prefix": "rm(",
     "library": "var_list.r",
     "varRefreshCmd": "cat(var_dic_list()) "
    }
   },
   "types_to_exclude": [
    "module",
    "function",
    "builtin_function_or_method",
    "instance",
    "_Feature"
   ],
   "window_display": false
  }
 },
 "nbformat": 4,
 "nbformat_minor": 2
}
