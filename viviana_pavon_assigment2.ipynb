{
 "cells": [
  {
   "cell_type": "markdown",
   "metadata": {},
   "source": [
    "* __INSTRUCTIONS:__\n",
    "\n",
    "\n",
    "    * Add your code as indicated in each cell.\n",
    "\n",
    "\n",
    "    * Besides adding your code, do not alter this file.\n",
    "\n",
    "\n",
    "    * Do not delete or change test cases. Once you are done with the assignment, you can run the test cases to see if you programmed the questions correctly.\n",
    "\n",
    "\n",
    "    * If you get a question wrong, do not give up. Keep trying until you pass the test cases.\n",
    "\n",
    "\n",
    "    * Rename the file as firstname_lastname_assignmentid.ipynb (e.g., marina_johnson_assignment1.ipynb)\n",
    "\n",
    "\n",
    "    * Only submit .ipynb files (no .py files)"
   ]
  },
  {
   "cell_type": "markdown",
   "metadata": {},
   "source": [
    "# Question 1\n",
    "1. Read the ckd dataset (ckd.xlsx) and save it as df_ckd\n",
    "\n",
    "\n",
    "2. Read the AAPL dataset (AAPL.csv) and save it as df_aapl\n",
    "\n",
    "\n",
    "3. Read the telco_churn dataset (telco_churn.csv) and save it as df_churn\n",
    "\n",
    "    * __Hints:__ \n",
    "        * Check __Module 3__ videos. Particularly, check __Module3b: Pandas Intro_\n",
    "        * Ensure the file is in the same folder with this assignment file.\n",
    "        * Do not use any path to read the dataset. For example, I should not be using __\"/Users/armej/Downloads/ckd.xlsx\".__ If you use a path, I will not be able to run your and grade code."
   ]
  },
  {
   "cell_type": "code",
   "execution_count": 1,
   "metadata": {},
   "outputs": [],
   "source": [
    "import pandas as pd \n",
    "\n",
    "df_ckd = pd.read_excel('ckd.xlsx') # reads the CKD dataset saved in Excel\n",
    "df_appl = pd.read_csv ('AAPL.csv') # reads the AAPL dataset saved in csv\n",
    "df_churn = pd.read_csv('telco_churn.csv') # reads the Churn dataset saved in csv"
   ]
  },
  {
   "cell_type": "code",
   "execution_count": 2,
   "metadata": {},
   "outputs": [
    {
     "name": "stdout",
     "output_type": "stream",
     "text": [
      "9675\n",
      "1288\n",
      "147903\n"
     ]
    }
   ],
   "source": [
    "print(df_ckd.size) # entries of data AAPL\n",
    "print(df_appl.size) # entries of data AAPL\n",
    "print(df_churn.size) #entries of data churn "
   ]
  },
  {
   "cell_type": "markdown",
   "metadata": {},
   "source": [
    "## Test case for Question 1. Do not alter or delete the cell below."
   ]
  },
  {
   "cell_type": "code",
   "execution_count": 3,
   "metadata": {},
   "outputs": [],
   "source": [
    "score = dict()\n",
    "\n",
    "try:\n",
    "    if (df_churn.size == 147903 and df_appl.size == 1288 and df_ckd.size == 9675):\n",
    "        score['question 1'] = 'pass'\n",
    "    else: \n",
    "        score['question 1'] = 'fail'\n",
    "except:\n",
    "    score['question 1'] = 'fail'"
   ]
  },
  {
   "cell_type": "markdown",
   "metadata": {},
   "source": [
    "#############################################################################"
   ]
  },
  {
   "cell_type": "markdown",
   "metadata": {},
   "source": [
    "# Question 2"
   ]
  },
  {
   "cell_type": "markdown",
   "metadata": {},
   "source": [
    "1. Identify the names of numerical variables for the ckd (chronic kidney disease) dataset.\n",
    "\n",
    "\n",
    "2. Identify the names of categorical variables for the ckd (chronic kidney disease) dataset.\n",
    "\n",
    "    * __Hints:__\n",
    "        * Check __Module 3__ videos. Particularly, look at the __Module 3b: Pandas Intro__ (The solution is illustrated around __minute 16 to minute 20__ in Module 3b: Pandas Intro)\n",
    "        * Do not forget the make the result a __LIST__. So numerical_var and categorical_var must be a list"
   ]
  },
  {
   "cell_type": "code",
   "execution_count": 4,
   "metadata": {},
   "outputs": [
    {
     "name": "stdout",
     "output_type": "stream",
     "text": [
      "['age', 'bp', 'sg', 'al', 'su', 'bgr', 'bu', 'sc', 'sod', 'pot', 'hemo', 'pcv', 'wbcc', 'rbcc']\n",
      "['rbc', 'pc', 'pcc', 'ba', 'htn', 'dm', 'cad', 'appet', 'pe', 'ane', 'class']\n"
     ]
    }
   ],
   "source": [
    "numerical_var = df_ckd.select_dtypes(exclude = object).columns.tolist() # Your code goes in here\n",
    "categorical_var = df_ckd.select_dtypes(include = object).columns.tolist() # Type your code after the equation sign.\n",
    "\n",
    "print(numerical_var)\n",
    "print(categorical_var)"
   ]
  },
  {
   "cell_type": "markdown",
   "metadata": {},
   "source": [
    "## Test case for Question 2. Do not alter or delete the cell below."
   ]
  },
  {
   "cell_type": "code",
   "execution_count": 5,
   "metadata": {},
   "outputs": [],
   "source": [
    "try:\n",
    "    if ((numerical_var == ['age', 'bp','sg','al','su','bgr','bu','sc','sod', 'pot','hemo','pcv','wbcc','rbcc']) & (categorical_var == ['rbc', 'pc', 'pcc', 'ba', 'htn', 'dm', 'cad', 'appet', 'pe', 'ane', 'class'])):\n",
    "        score['question 2'] = 'pass'\n",
    "    else: \n",
    "        score['question 2'] = 'fail'\n",
    "except:\n",
    "    score['question 2'] = 'fail'"
   ]
  },
  {
   "cell_type": "markdown",
   "metadata": {},
   "source": [
    "#############################################################################"
   ]
  },
  {
   "cell_type": "markdown",
   "metadata": {},
   "source": [
    "# Question 3"
   ]
  },
  {
   "cell_type": "markdown",
   "metadata": {},
   "source": [
    "1. How many people have __wbcc__ less than or equal to 7000? \n",
    "\n",
    "    * __Hints:__\n",
    "        * You will filter the dataframe using only the __wbcc__ column. \n",
    "        * The filtered dataframe should only contain instances whose __wbcc is less than or equal to 7000.__ \n",
    "        * After you filter your dataset, do not forget the count the number of observations. \n",
    "        * Check __Module 3c: Accessing columns and rows__\n",
    "        \n",
    "        \n",
    "2. How many people with ckd have wbcc less than 6000? \n",
    "\n",
    "    * __Hints:__ \n",
    "        * You will filter the dataframe using two columns: __wbcc and class__ columns. \n",
    "        * The filtered dataframe should only contain instances whose __wbcc is less than 6000, and class is equal to \"ckd\".__ \n",
    "        * After you filter your dataset, do not forget the count the number of observations.\n",
    "        * Check __Module 3c: Accessing columns and rows__"
   ]
  },
  {
   "cell_type": "code",
   "execution_count": 6,
   "metadata": {},
   "outputs": [
    {
     "data": {
      "text/plain": [
       "104"
      ]
     },
     "execution_count": 6,
     "metadata": {},
     "output_type": "execute_result"
    }
   ],
   "source": [
    "# Your code goes in here\n",
    "# Type your code after the equation sign.\n",
    "\n",
    "ppl_with_low_wbcc = len(df_ckd[df_ckd['wbcc'] <= 7000]) #Number of people that have wbcc less than or equal to 700\n",
    "ppl_with_low_wbcc"
   ]
  },
  {
   "cell_type": "code",
   "execution_count": 7,
   "metadata": {},
   "outputs": [
    {
     "data": {
      "text/plain": [
       "25"
      ]
     },
     "execution_count": 7,
     "metadata": {},
     "output_type": "execute_result"
    }
   ],
   "source": [
    "# Your code goes in here\n",
    "# Type your code after the equation sign.\n",
    "\n",
    "ckd_ppl_with_low_wbcc = len(df_ckd[((df_ckd['wbcc'] < 6000) & (df_ckd['class'] == 'ckd'))]) #Number of people that have less than 6000\n",
    "ckd_ppl_with_low_wbcc"
   ]
  },
  {
   "cell_type": "markdown",
   "metadata": {},
   "source": [
    "## Test case for Question 3. Do not alter or delete the cell below."
   ]
  },
  {
   "cell_type": "code",
   "execution_count": 8,
   "metadata": {},
   "outputs": [],
   "source": [
    "try:\n",
    "    if ((ppl_with_low_wbcc == 104) and (ckd_ppl_with_low_wbcc == 25)):\n",
    "        score['question 3'] = 'pass'\n",
    "    else: \n",
    "        score['question 3'] = 'fail'\n",
    "except:\n",
    "    score['question 3'] = 'fail'"
   ]
  },
  {
   "cell_type": "markdown",
   "metadata": {},
   "source": [
    "#############################################################################"
   ]
  },
  {
   "cell_type": "markdown",
   "metadata": {},
   "source": [
    "# Question 4"
   ]
  },
  {
   "cell_type": "markdown",
   "metadata": {},
   "source": [
    "1. How many people who are less than or equal to 60 years old have ckd (chronic kidney disease). \n",
    "\n",
    "    * __Hints:__ \n",
    "        * You will filter the dataframe using two columns: __age and class__ columns. \n",
    "        * The filtered dataframe should only contain instances whose __age is less than or equal to 60 years and class is equal to \"ckd\".__ \n",
    "        * After you filter your dataset, do not forget the count the number of observations.\n",
    "        * Check __Module 3c: Accessing columns and rows__"
   ]
  },
  {
   "cell_type": "code",
   "execution_count": 9,
   "metadata": {},
   "outputs": [
    {
     "data": {
      "text/plain": [
       "130"
      ]
     },
     "execution_count": 9,
     "metadata": {},
     "output_type": "execute_result"
    }
   ],
   "source": [
    "# Your code goes in here\n",
    "# Type your code after the equation sign.\n",
    "\n",
    "\n",
    "ckd_ppl_less_60 = len(df_ckd.loc[(df_ckd['age'] <= 60) & (df_ckd['class'] == 'ckd')]) #number of people less equal to 60 with ckd\n",
    "ckd_ppl_less_60"
   ]
  },
  {
   "cell_type": "markdown",
   "metadata": {},
   "source": [
    "## Test case for Question 4. Do not alter or delete the cell below."
   ]
  },
  {
   "cell_type": "code",
   "execution_count": 10,
   "metadata": {},
   "outputs": [],
   "source": [
    "try:\n",
    "    if ckd_ppl_less_60 == 130:\n",
    "        score['question 4'] = 'pass'\n",
    "    else: \n",
    "        score['question 4'] = 'fail'\n",
    "except:\n",
    "    score['question 4'] = 'fail'"
   ]
  },
  {
   "cell_type": "markdown",
   "metadata": {},
   "source": [
    "#############################################################################"
   ]
  },
  {
   "cell_type": "markdown",
   "metadata": {},
   "source": [
    "# Question 5"
   ]
  },
  {
   "cell_type": "markdown",
   "metadata": {},
   "source": [
    "1. What is the interquartile range of the __age__ column for the people with ckd?\n",
    "\n",
    "    * __Hints:__ \n",
    "        * Interquartile range is the difference between the 75th percentile and 25th percentile. \n",
    "        * First, filter the data using a column: __class.__ The filtered dataset should only contain observations where __class is equal to \"ckd\".__ \n",
    "        * You will then need to select the __age__ column in the filtered dataset and compute its 75th percentile. \n",
    "        * You will repeat the same steps to compute the 25th percentile. \n",
    "        * Finally, take the difference between the 75th and 25th percentile. \n",
    "        * Check __Module 3c: Accessing columns and rows__ and __Module 3d: Desriptive Statistics__\n",
    "    \n",
    "    \n",
    "2. What is the interquartile range of the __age__ column for the people without ckd?\n",
    "\n",
    "     * __Hints:__ \n",
    "        * Interquartile range is the difference between the 75th percentile and 25th percentile. \n",
    "        * First, filter the data using a column: __class.__ The filtered dataset should only contain observations where __class is equal to \"notckd\".__ \n",
    "        * You will then need to select the __age__ column in the filtered dataset and compute its 75th percentile. \n",
    "        * You will repeat the same steps to compute the 25th percentile. \n",
    "        * Finally, take the difference between the 75th and 25th percentile. \n",
    "        * Check __Module 3c: Accessing columns and rows__ and __Module 3d: Desriptive Statistics__"
   ]
  },
  {
   "cell_type": "code",
   "execution_count": 11,
   "metadata": {},
   "outputs": [
    {
     "name": "stdout",
     "output_type": "stream",
     "text": [
      "age    65.25\n",
      "Name: 0.75, dtype: float64\n",
      "age    47.75\n",
      "Name: 0.25, dtype: float64\n"
     ]
    }
   ],
   "source": [
    "ckd = df_ckd.loc[(df_ckd['class'] == 'ckd') , [\"age\"]] # class is equal to ckd and only age \n",
    "\n",
    "ckd_75 = ckd.quantile(0.75) # dataset 75th percentile\n",
    "\n",
    "ckd_25 = ckd.quantile(0.25) # dataset 25th percentile\n",
    "\n",
    "print(ckd_75)\n",
    "print(ckd_25)"
   ]
  },
  {
   "cell_type": "code",
   "execution_count": 12,
   "metadata": {},
   "outputs": [
    {
     "name": "stdout",
     "output_type": "stream",
     "text": [
      "age    58.0\n",
      "Name: 0.75, dtype: float64\n",
      "age    34.0\n",
      "Name: 0.25, dtype: float64\n"
     ]
    }
   ],
   "source": [
    "notckd = df_ckd.loc[(df_ckd['class'] == 'notckd') , [\"age\"]] # class is equal to notckd and only age \n",
    "\n",
    "notckd_75 = notckd.quantile(0.75) # dataset 75th percentile\n",
    "\n",
    "notckd_25 = notckd.quantile(0.25) # dataset 25th percentile\n",
    "\n",
    "print(notckd_75)\n",
    "print(notckd_25)"
   ]
  },
  {
   "cell_type": "code",
   "execution_count": 13,
   "metadata": {},
   "outputs": [
    {
     "name": "stdout",
     "output_type": "stream",
     "text": [
      "17.5\n",
      "24.0\n"
     ]
    }
   ],
   "source": [
    "iqr_ckd =  ckd_75.age - ckd_25.age\n",
    "iqr_notckd = notckd_75.age - notckd_25.age\n",
    "\n",
    "print(iqr_ckd)\n",
    "print(iqr_notckd)"
   ]
  },
  {
   "cell_type": "markdown",
   "metadata": {},
   "source": [
    "## Test case for Question 5. Do not alter or delete the cell below."
   ]
  },
  {
   "cell_type": "code",
   "execution_count": 14,
   "metadata": {},
   "outputs": [],
   "source": [
    "try:\n",
    "    if ((iqr_ckd == 17.5) and (iqr_notckd == 24)):\n",
    "        score['question 5'] = 'pass'\n",
    "    else: \n",
    "        score['question 5'] = 'fail'\n",
    "except:\n",
    "    score['question 5'] = 'fail'"
   ]
  },
  {
   "cell_type": "markdown",
   "metadata": {},
   "source": [
    "#############################################################################################"
   ]
  },
  {
   "cell_type": "markdown",
   "metadata": {},
   "source": [
    "__QUESTIONS 6, 7, & 8 USE THE APPL.CSV dataset (df_appl)__"
   ]
  },
  {
   "cell_type": "markdown",
   "metadata": {},
   "source": [
    "#############################################################################################"
   ]
  },
  {
   "cell_type": "markdown",
   "metadata": {},
   "source": [
    "# Question 6"
   ]
  },
  {
   "cell_type": "markdown",
   "metadata": {},
   "source": [
    "1. Compute the average __Volume__ for April in the year of 2015\n",
    "\n",
    "    * __Hints:__ \n",
    "        * You will need to filter the dataset in a way that your dataset will only contain 2015 April observations. \n",
    "        * Remember __Date__ column contains the month, day, and year information. Split this column into these three elements. For example, '04/27/2020' should be split into ['04','27', '2020']. The first element is the month, the second element is the day, and third element is the year. You will need to access and retrieve the first and the third elements.\n",
    "        * Access the months in the Date column after splitting it. Assign the months you obtained to this newly created __month__ column.\n",
    "        * Access the years in the Date column after splitting it. Assign the years you obtained to this newly created __year__ column.\n",
    "        * Now your dataset has two extra columns: __month and year.__ Use these columns to filter your dataset. \n",
    "        * Your filtered dataset should have __month equal to 04 and year equal to 2015__.\n",
    "        * You can select the __Volume__ column from this filtered data and compute its average.\n",
    "        * Check __Module 3c: Accessing Columns and Rows__, __Module 3d: Descriptive Statistics__ and __Module 3g: Summary and Aggregation__, and __Module 1e: String operations__. You may need to use a function such as split."
   ]
  },
  {
   "cell_type": "code",
   "execution_count": 15,
   "metadata": {},
   "outputs": [
    {
     "data": {
      "text/plain": [
       "245451650.0"
      ]
     },
     "execution_count": 15,
     "metadata": {},
     "output_type": "execute_result"
    }
   ],
   "source": [
    "year = [] #split the year\n",
    "for i in df_appl['Date'].str.split('-'):\n",
    "    year.append(i[0])\n",
    "\n",
    "month = [] #split the month\n",
    "for i in df_appl['Date'].str.split('-'):\n",
    "    month.append(i[1])\n",
    "    \n",
    "df_appl['month'] =  month  # create the month column - fill in here #\n",
    "\n",
    "df_appl['year'] = year  # create the year column - fill in here #\n",
    "\n",
    "april_2015= df_appl[(df_appl['month']=='04') & (df_appl['year']=='2015')]\n",
    "\n",
    "average_vol_april_2015 = april_2015['Volume'].mean() # Compute average volume in april 2015 - fill in here #\n",
    "\n",
    "average_vol_april_2015"
   ]
  },
  {
   "cell_type": "markdown",
   "metadata": {},
   "source": [
    "## Test case for Question 6. Do not alter or delete the cell below."
   ]
  },
  {
   "cell_type": "code",
   "execution_count": 16,
   "metadata": {},
   "outputs": [],
   "source": [
    "try:\n",
    "    if ((average_vol_april_2015 > 245451649) and (average_vol_april_2015 < 245451651)):\n",
    "        score['question 6'] = 'pass'\n",
    "    else: \n",
    "        score['question 6'] = 'fail'\n",
    "except:\n",
    "    score['question 6'] = 'fail'"
   ]
  },
  {
   "cell_type": "markdown",
   "metadata": {},
   "source": [
    "#############################################################################"
   ]
  },
  {
   "cell_type": "markdown",
   "metadata": {},
   "source": [
    "# Question 7"
   ]
  },
  {
   "cell_type": "markdown",
   "metadata": {},
   "source": [
    "1. Compute the correlation between __Volume__ and closing price (__Close__) for the year of 2016\n",
    "\n",
    "    * __Hints:__ \n",
    "        * You have already created the year and month columns in the previous question. \n",
    "        * Filter the dataset by using the __year__ column. Select the observations in a way that __year is equal to 2016.__ \n",
    "        * Then, select Volume and Close columns in the filtered dataset to compute the corrrelation. \n",
    "        * Remember .corr() function will give you a 2 by 2 correlation matrix. So access the correlation from the matrix by slicing the matrix. (you will need to access the first row, first column)\n",
    "        * Check __Module 3c: Accessing Columns and Rows__, __Module 3d: Descriptive Statistics__ also check the website https://pandas.pydata.org/pandas-docs/stable/reference/api/pandas.DataFrame.corr.html"
   ]
  },
  {
   "cell_type": "code",
   "execution_count": 17,
   "metadata": {},
   "outputs": [
    {
     "data": {
      "text/plain": [
       "-0.33170763926389396"
      ]
     },
     "execution_count": 17,
     "metadata": {},
     "output_type": "execute_result"
    }
   ],
   "source": [
    "df_2016 = df_appl.loc[df_appl['year'] == '2016',['Volume', 'Close']] # Your code goes in here\n",
    "                                                                                                  # Type your code after the equation sign.\n",
    "\n",
    "corr_vol_price = df_2016.corr(method = 'pearson').iloc[1]['Volume'] # fill in here #\n",
    "corr_vol_price"
   ]
  },
  {
   "cell_type": "markdown",
   "metadata": {},
   "source": [
    "## Test case for Question 7. Do not alter or delete the cell below."
   ]
  },
  {
   "cell_type": "code",
   "execution_count": 18,
   "metadata": {},
   "outputs": [],
   "source": [
    "try:\n",
    "    if ((corr_vol_price  < -0.329) and (corr_vol_price > -0.34)):\n",
    "        score['question 7'] = 'pass'\n",
    "    else: \n",
    "        score['question 7'] = 'fail'\n",
    "except:\n",
    "    score['question 7'] = 'fail'"
   ]
  },
  {
   "cell_type": "markdown",
   "metadata": {},
   "source": [
    "#############################################################################"
   ]
  },
  {
   "cell_type": "markdown",
   "metadata": {},
   "source": [
    "# Question 8"
   ]
  },
  {
   "cell_type": "markdown",
   "metadata": {},
   "source": [
    "1. What is the average fluctuation (i.e., difference) between the closing (Close) and opening (Open) prices?\n",
    "\n",
    "\n",
    "2. What is the standard deviation of the fluctuations (i.e., difference) between the closing (Close) and opening (Open) prices?\n",
    "\n",
    "    * __Hints__:\n",
    "        * Create a new column as the difference between opening costs (__Open__) and closing costs (__Close__). All you need to do is to select these columns in the dataset and take the difference using the minus - sign.\n",
    "        * Name this column as diff\n",
    "        * You can compute the average and standard deviation of this new column using the mean() and std() functions. \n",
    "        * Check __Module 3d: Descriptive Statistics__"
   ]
  },
  {
   "cell_type": "code",
   "execution_count": 19,
   "metadata": {},
   "outputs": [],
   "source": [
    "# Your code goes in here\n",
    "# Type your code after the equation sign.\n",
    "\n",
    "diff = df_appl['Open'] - df_appl['Close'] # Difference between opening and closing costs \n",
    "df_appl['diff'] = diff #create a new column\n",
    "average_diff =   diff.mean() # Average #\n",
    "stdev_diff = diff.std() # Standar deviation #"
   ]
  },
  {
   "cell_type": "code",
   "execution_count": 20,
   "metadata": {},
   "outputs": [
    {
     "name": "stdout",
     "output_type": "stream",
     "text": [
      "-0.3124183152173909\n",
      "4.206811206695246\n"
     ]
    }
   ],
   "source": [
    "print(average_diff )\n",
    "print(stdev_diff)"
   ]
  },
  {
   "cell_type": "markdown",
   "metadata": {},
   "source": [
    "## Test case for Question 8. Do not alter or delete the cell below."
   ]
  },
  {
   "cell_type": "code",
   "execution_count": 21,
   "metadata": {},
   "outputs": [],
   "source": [
    "try:\n",
    "    if ((stdev_diff  > 4.20) and (stdev_diff < 4.3)):\n",
    "        score['question 8'] = 'pass'\n",
    "    else: \n",
    "        score['question 8'] = 'fail'\n",
    "except:\n",
    "    score['question 8'] = 'fail'"
   ]
  },
  {
   "cell_type": "markdown",
   "metadata": {},
   "source": [
    "#############################################################################################"
   ]
  },
  {
   "cell_type": "markdown",
   "metadata": {},
   "source": [
    "__QUESTIONS 9, 10, 11 & 12 USE THE TELCO_CHURN.CSV dataset (df_churn)__"
   ]
  },
  {
   "cell_type": "markdown",
   "metadata": {},
   "source": [
    "#############################################################################################"
   ]
  },
  {
   "cell_type": "markdown",
   "metadata": {},
   "source": [
    "# Question 9"
   ]
  },
  {
   "cell_type": "markdown",
   "metadata": {},
   "source": [
    "1. What is the average tenure of churned customers?\n",
    "\n",
    "\n",
    "2. What is the average tenure of not churned customers?\n",
    "\n",
    "    * __Hints:__ \n",
    "      * To compute the average __tenure__ for churned customers, first filter the dataset using the __Churn__ column where __Churn is Yes.__ \n",
    "      * In this filtered dataset, select the __tenure__ column and compute its average. \n",
    "      * Repeat the same steps for non churned customers (__Churn is equal to No__)\n",
    "      * Check __Module 3c: Accessing Columns and Rows__ and __Module 3d: Descriptive Statistics__"
   ]
  },
  {
   "cell_type": "code",
   "execution_count": 22,
   "metadata": {},
   "outputs": [],
   "source": [
    "churn_tenure = df_churn.loc[df_churn['Churn'] == \"Yes\", [\"tenure\"]] # Fileter for churn and tenure\n",
    "not_churn_tenure = df_churn.loc[df_churn['Churn'] == \"No\", [\"tenure\"]] # Fileter for churn and tenure\n",
    "\n",
    "average_tenure_churn =  churn_tenure.mean().tenure # Average for tenure and churn #\n",
    "average_tenure_not_churn = not_churn_tenure.mean().tenure # Average for tenure not churn#"
   ]
  },
  {
   "cell_type": "code",
   "execution_count": 23,
   "metadata": {},
   "outputs": [
    {
     "name": "stdout",
     "output_type": "stream",
     "text": [
      "17.979133226324237\n",
      "37.56996521066873\n"
     ]
    }
   ],
   "source": [
    "print(average_tenure_churn)\n",
    "print(average_tenure_not_churn)"
   ]
  },
  {
   "cell_type": "markdown",
   "metadata": {},
   "source": [
    "## Test case for Question 9. Do not alter or delete the cell below."
   ]
  },
  {
   "cell_type": "code",
   "execution_count": 24,
   "metadata": {},
   "outputs": [],
   "source": [
    "try:\n",
    "    if (average_tenure_churn > 17.9 and average_tenure_churn < 18 and average_tenure_not_churn > 37.5 and average_tenure_not_churn < 37.8):\n",
    "        score['question 9'] = 'pass'\n",
    "    else: \n",
    "        score['question 9'] = 'fail'\n",
    "except:\n",
    "    score['question 9'] = 'fail'"
   ]
  },
  {
   "cell_type": "markdown",
   "metadata": {},
   "source": [
    "#############################################################################"
   ]
  },
  {
   "cell_type": "markdown",
   "metadata": {},
   "source": [
    "# Question 10"
   ]
  },
  {
   "cell_type": "markdown",
   "metadata": {},
   "source": [
    "1. What is the average tenure of customers where StreamingTV is No?\n",
    "\n",
    "\n",
    "2. What is the average tenure of customers where StreamingTV is Yes?\n",
    "\n",
    "    * __Hints:__ \n",
    "      * To compute the average __tenure__ for people with __StreamingTV is No__, first filter the dataset using the __StreamingTV__ column where __StreamingTV is No__. \n",
    "      * In this filtered dataset, select the __tenure__ column and compute its average.\n",
    "      * Repeat the same steps for StreamingTV is Yes (____StreamingTV is Yes__)\n",
    "      * Check __Module 3c: Accessing Columns and Rows__ and __Module 3d: Descriptive Statistics__"
   ]
  },
  {
   "cell_type": "code",
   "execution_count": 25,
   "metadata": {},
   "outputs": [
    {
     "name": "stdout",
     "output_type": "stream",
     "text": [
      "24.98540925266904\n",
      "41.066124861470264\n"
     ]
    }
   ],
   "source": [
    "people_not_streaming_tv = df_churn.loc[(df_churn['StreamingTV'] == \"No\"), [\"tenure\"]]\n",
    "\n",
    "people_streaming_tv = df_churn.loc[(df_churn['StreamingTV'] == \"Yes\"), [\"tenure\"]]\n",
    "\n",
    "average_tenure_not_streamingTV = people_not_streaming_tv.mean().tenure\n",
    "\n",
    "average_tenure_streamingTV = people_streaming_tv.mean().tenure\n",
    "\n",
    "print(average_tenure_not_streamingTV)\n",
    "print(average_tenure_streamingTV)"
   ]
  },
  {
   "cell_type": "markdown",
   "metadata": {},
   "source": [
    "## Test case for Question 10. Do not alter or delete the cell below."
   ]
  },
  {
   "cell_type": "code",
   "execution_count": 26,
   "metadata": {},
   "outputs": [],
   "source": [
    "try:\n",
    "    if (average_tenure_not_streamingTV > 24.5 and average_tenure_not_streamingTV < 25.5 and average_tenure_streamingTV > 40.5 and average_tenure_streamingTV < 41.5):\n",
    "        score['question 10'] = 'pass'\n",
    "    else: \n",
    "        score['question 10'] = 'fail'\n",
    "except:\n",
    "    score['question 10'] = 'fail'"
   ]
  },
  {
   "cell_type": "markdown",
   "metadata": {},
   "source": [
    "#############################################################################"
   ]
  },
  {
   "cell_type": "markdown",
   "metadata": {},
   "source": [
    "# Question 11"
   ]
  },
  {
   "cell_type": "markdown",
   "metadata": {},
   "source": [
    "1. Use the PaymentMethod column and create a new column named AutoPayment. If the PaymentMethod has the word automatic, make the values in this column 1. Otherwise, make its values 0.\n",
    "\n",
    "    * __Hints__: \n",
    "        * You will iterate through each observation in the __PaymentMethod__ column to check if that particular observation has the word automatic. \n",
    "        * If yes, assign 1 to this newly created column. Otherwise, assign 0. \n",
    "        * This column will tell us if customers do automatic payment. \n",
    "        * Check __Module 1e: String operations__. You may need to use a function such as find(). Also check __Module 2b: for loops__ and __Module 2e: Conditional Statements__"
   ]
  },
  {
   "cell_type": "code",
   "execution_count": 27,
   "metadata": {},
   "outputs": [],
   "source": [
    "new_column = []\n",
    "\n",
    "for row in df_churn['PaymentMethod']:\n",
    "    if 'automatic' in row:\n",
    "        new_column.append(1)\n",
    "    else :\n",
    "        new_column.append(0) \n",
    "        \n",
    "df_churn['AutoPayment'] = new_column # fill in here #"
   ]
  },
  {
   "cell_type": "code",
   "execution_count": 28,
   "metadata": {},
   "outputs": [
    {
     "data": {
      "text/plain": [
       "3066"
      ]
     },
     "execution_count": 28,
     "metadata": {},
     "output_type": "execute_result"
    }
   ],
   "source": [
    "df_churn['AutoPayment'].sum()"
   ]
  },
  {
   "cell_type": "markdown",
   "metadata": {},
   "source": [
    "## Test case for Question 11. Do not alter or delete the cell below."
   ]
  },
  {
   "cell_type": "code",
   "execution_count": 29,
   "metadata": {},
   "outputs": [],
   "source": [
    "try:\n",
    "    if df_churn['AutoPayment'].sum() == 3066:\n",
    "        score['question 11'] = 'pass'\n",
    "    else: \n",
    "        score['question 11'] = 'fail'\n",
    "except:\n",
    "    score['question 11'] = 'fail'"
   ]
  },
  {
   "cell_type": "markdown",
   "metadata": {},
   "source": [
    "#############################################################################"
   ]
  },
  {
   "cell_type": "markdown",
   "metadata": {},
   "source": [
    "# Question 12"
   ]
  },
  {
   "cell_type": "markdown",
   "metadata": {},
   "source": [
    "* What percentage of people with autopayment churn?\n",
    "\n",
    "\n",
    "* What percentage of people without autopayment churn?\n",
    "\n",
    "    * __Hints__: \n",
    "        * You will use the new column you created in Question 11. \n",
    "        * We will find the numerator. This is basically the number of people who do __autopayment and have churned__. Filter the dataset using the __Churn and AutoPayment__ columns. (__Churn is equal to Yes, and Autopayment is equal to 1__). Count the number of observations in this filtered dataset. This is the numerator.\n",
    "        * We will find the denominator. This is basically the number of people who make Autopayment. Filter the dataset using the __Autopayment__ column (__Autopayment is equal to 1__). Count the number of observations in this filtered dataset. This is the denominator.\n",
    "        * You can divide the numerator by the denominator.   \n",
    "        * For the second part of the question, repeat the similar steps. This time, you will select people who did not do __Autopayment__ (__Autopayment is equal to 0__). "
   ]
  },
  {
   "cell_type": "code",
   "execution_count": 30,
   "metadata": {},
   "outputs": [
    {
     "data": {
      "text/plain": [
       "490"
      ]
     },
     "execution_count": 30,
     "metadata": {},
     "output_type": "execute_result"
    }
   ],
   "source": [
    "churn_autopayment = len(df_churn.loc[(df_churn['Churn'] == 'Yes') & (df_churn['AutoPayment'] == 1)])\n",
    "churn_autopayment"
   ]
  },
  {
   "cell_type": "code",
   "execution_count": 31,
   "metadata": {},
   "outputs": [
    {
     "data": {
      "text/plain": [
       "3066"
      ]
     },
     "execution_count": 31,
     "metadata": {},
     "output_type": "execute_result"
    }
   ],
   "source": [
    "people_autopayment = len(df_churn.loc[df_churn['AutoPayment'] == 1])\n",
    "people_autopayment"
   ]
  },
  {
   "cell_type": "code",
   "execution_count": 32,
   "metadata": {},
   "outputs": [
    {
     "data": {
      "text/plain": [
       "1379"
      ]
     },
     "execution_count": 32,
     "metadata": {},
     "output_type": "execute_result"
    }
   ],
   "source": [
    "churn_not_autopayment = len(df_churn.loc[(df_churn['Churn'] == 'Yes') & (df_churn['AutoPayment'] == 0)])\n",
    "churn_not_autopayment"
   ]
  },
  {
   "cell_type": "code",
   "execution_count": 33,
   "metadata": {},
   "outputs": [
    {
     "data": {
      "text/plain": [
       "3977"
      ]
     },
     "execution_count": 33,
     "metadata": {},
     "output_type": "execute_result"
    }
   ],
   "source": [
    "people_not_autopayment = len(df_churn.loc[df_churn['AutoPayment'] == 0])\n",
    "people_not_autopayment"
   ]
  },
  {
   "cell_type": "code",
   "execution_count": 34,
   "metadata": {},
   "outputs": [
    {
     "name": "stdout",
     "output_type": "stream",
     "text": [
      "15.981735159817351\n",
      "34.674377671611765\n"
     ]
    }
   ],
   "source": [
    "percent_churn_autopay = (churn_autopayment/people_autopayment)*100 # fill in here #\n",
    "\n",
    "percent_churn_noautopay = (churn_not_autopayment/people_not_autopayment)*100 # fill in here #\n",
    "\n",
    "print(percent_churn_autopay)\n",
    "print(percent_churn_noautopay)"
   ]
  },
  {
   "cell_type": "markdown",
   "metadata": {},
   "source": [
    "## Test case for Question 12. Do not alter or delete the cell below."
   ]
  },
  {
   "cell_type": "code",
   "execution_count": 35,
   "metadata": {},
   "outputs": [],
   "source": [
    "try:\n",
    "    if (percent_churn_autopay > 15.5 and percent_churn_autopay < 16.5 and percent_churn_noautopay > 34.5 and percent_churn_noautopay < 35.5):\n",
    "        score['question 12'] = 'pass'\n",
    "    else: \n",
    "        score['question 12'] = 'fail'\n",
    "except:\n",
    "    score['question 12'] = 'fail'"
   ]
  },
  {
   "cell_type": "markdown",
   "metadata": {},
   "source": [
    "#############################################################################"
   ]
  },
  {
   "cell_type": "markdown",
   "metadata": {},
   "source": [
    "# Total Score"
   ]
  },
  {
   "cell_type": "code",
   "execution_count": 36,
   "metadata": {},
   "outputs": [
    {
     "name": "stdout",
     "output_type": "stream",
     "text": [
      "your total score is:  100\n"
     ]
    }
   ],
   "source": [
    "total_score = 0\n",
    "for i in list(score.values()):\n",
    "    if i=='pass':\n",
    "        total_score = total_score + 8.34\n",
    "print('your total score is: ', round(total_score))"
   ]
  }
 ],
 "metadata": {
  "kernelspec": {
   "display_name": "Python 3 (ipykernel)",
   "language": "python",
   "name": "python3"
  },
  "language_info": {
   "codemirror_mode": {
    "name": "ipython",
    "version": 3
   },
   "file_extension": ".py",
   "mimetype": "text/x-python",
   "name": "python",
   "nbconvert_exporter": "python",
   "pygments_lexer": "ipython3",
   "version": "3.9.7"
  },
  "toc": {
   "nav_menu": {},
   "number_sections": true,
   "sideBar": true,
   "skip_h1_title": false,
   "toc_cell": false,
   "toc_position": {},
   "toc_section_display": "block",
   "toc_window_display": false
  },
  "varInspector": {
   "cols": {
    "lenName": 16,
    "lenType": 16,
    "lenVar": 40
   },
   "kernels_config": {
    "python": {
     "delete_cmd_postfix": "",
     "delete_cmd_prefix": "del ",
     "library": "var_list.py",
     "varRefreshCmd": "print(var_dic_list())"
    },
    "r": {
     "delete_cmd_postfix": ") ",
     "delete_cmd_prefix": "rm(",
     "library": "var_list.r",
     "varRefreshCmd": "cat(var_dic_list()) "
    }
   },
   "types_to_exclude": [
    "module",
    "function",
    "builtin_function_or_method",
    "instance",
    "_Feature"
   ],
   "window_display": false
  }
 },
 "nbformat": 4,
 "nbformat_minor": 2
}
